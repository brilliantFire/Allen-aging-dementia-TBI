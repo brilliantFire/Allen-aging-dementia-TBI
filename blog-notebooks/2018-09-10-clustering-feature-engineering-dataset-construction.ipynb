{
 "cells": [
  {
   "cell_type": "markdown",
   "metadata": {},
   "source": [
    "---\n",
    "layout: post \n",
    "comments: true \n",
    "tags: dementia feature-engineering clustering data-preparation R-stats RNA-seq\n",
    "title: Using Clustering Results to Define New Features for Modeling\n",
    "---"
   ]
  },
  {
   "cell_type": "code",
   "execution_count": 1,
   "metadata": {},
   "outputs": [],
   "source": [
    "setwd('..')"
   ]
  },
  {
   "cell_type": "markdown",
   "metadata": {},
   "source": [
    "Hi, everyone! In the [last post](http://blog.vislaywade.com/clustering-experiments-feature-engineering-with-clValid/) to this blog, we talked about how to use the `clValid` package for R to try multiple different clustering algorithms with a range of different values for the number of clusters, $k$, in a single function call. In this post, we go one step further and use the results of a clustering experiment to create new features to put into models.  \n",
    "\n",
    "#### On tap for this post:  \n",
    "\n",
    "1. *Load Libraries & Data* - If you're running the Jupyter notebook version of this post from a cloned copy of the [project repository](https://github.com/brilliantFire/Allen-aging-dementia-TBI) on GitHub, the code blocks in this section will get you all set up.  \n",
    "2. *$k$-Medoids Clustering Using CLARA* - We'll use the CLARA (Clustering Large Applications) algorithm to perform $k$-medoids clustering on gene expression levels for genes that [were identified](http://blog.vislaywade.com/EDA-gene-expression-data-part-3-results-visualizations/) as being differentially-expressed in the hippocampus (a region of the brain involved in memory formation) of dementia patients. We'll also produce some visualizations!  \n",
    "3. *Extracting Cluster Medoids & Creating New Features* - The `cluster` package makes it very easy to extract the medoid values for each sample.  \n",
    "4. *Reshaping a Dataset & Adding The New Features* - We'll reshape a table consisting of pathological and other measurements taken from multiple samples from the same patients then add our new variables to it to get it in shape for model building.  \n",
    "\n",
    "Let's do it!"
   ]
  },
  {
   "cell_type": "markdown",
   "metadata": {},
   "source": [
    "### Load Libraries & Data  \n",
    "The `clara()` method is available in the `cluster` package along with a whole slew of other clustering algorithms. [CLARA](http://www.sthda.com/english/articles/27-partitioning-clustering-essentials/89-clara-clustering-large-applications/) is a way of doing *$k$-medoids* clustering on larger numbers of observations. We only have 277 genes that we're trying to cluster in this example so we could just as well use `pam()`, which is also available in the `cluster` package. I found there to be no difference between the two on this data.  "
   ]
  },
  {
   "cell_type": "code",
   "execution_count": 2,
   "metadata": {},
   "outputs": [
    {
     "name": "stderr",
     "output_type": "stream",
     "text": [
      "Warning message:\n",
      "\"package 'cluster' was built under R version 3.4.4\""
     ]
    }
   ],
   "source": [
    "library(data.table)     # I/O\n",
    "library(cluster)        # CLARA clustering algorithm"
   ]
  },
  {
   "cell_type": "markdown",
   "metadata": {},
   "source": [
    "Now we'll load the data we need, which consists of:  \n",
    "\n",
    "1. *A normalized table of FPKM values* - These are the gene expression levels from RNA-seq experiments that have been normalized for both gene length and between-sample technical variation. Once again, this open-source data is available from the \"Downloads\" section of the [*Aging, Dementia, and TBI Study*](http://aging.brain-map.org/) website from the [Allen Institute for Brain Science](https://alleninstitute.org/what-we-do/brain-science/).  \n",
    "\n",
    "2. *Information about the samples & donors* - This contains donor demographic and medical history information but, more importantly for our purposes, it has the variables that connect the brain tissue samples for which we have gene expression information to the donors they come from.  \n",
    "\n",
    "3. *Brain region-specific lists of genes that appear to be differentially-expressed in samples from donors with dementia* - These are the genes that we [identified](http://blog.vislaywade.com/EDA-gene-expression-data-part-2-hypothesis-testing/) as having different expression patterns in dementia patients (check out [this post](http://blog.vislaywade.com/EDA-gene-expression-data-part-3-results-visualizations/) for additional visualizations and information).  \n",
    "\n",
    "4. *Gene Information* - This is a table of Entrez Gene identification numbers (those are the row names in our FPKM matrix), gene symbols, and gene names.   \n",
    "\n",
    "5. *Gene Annotation Lists* - In the [last post](http://blog.vislaywade.com/clustering-experiments-feature-engineering-with-clValid/) about the project, we used the `mygene` package from [Bioconductor](https://www.bioconductor.org/) to access [an open-source database](https://mygene.info/) of even more information about genes. We generated three lists of so-called *gene ontology* information regarding where the gene products are active, what they do, and which biological processes they're involved in. We'll use these lists together with the other information about genes (from #4) to learn about the medoids we'll use as cluster representatives. \n",
    "\n",
    "After loading the data, we'll make sure the gene expression data is a numeric matrix of scaled FPKM values and then subset it to contain only the hippocampus samples and the differentially expressed genes."
   ]
  },
  {
   "cell_type": "code",
   "execution_count": 3,
   "metadata": {},
   "outputs": [],
   "source": [
    "# load normalized FPKM values, sample info, DE gene lists for brain regions, annotations\n",
    "fpkm_table <- readRDS(file='data/normalized_fpkm_matrix.Rds')\n",
    "sample_info <- readRDS(file='data/sample_info.Rds')\n",
    "brain_reg_sig_genes <- readRDS(file='data/brain_reg_sig_genes.Rds')\n",
    "genes <- readRDS(file='data/genes.Rds')\n",
    "annotations <- readRDS(file='data/hip_annotation_lists.Rds')\n",
    "\n",
    "# make FPKM numeric matrix\n",
    "fpkm_mat <- as.matrix(fpkm_table)\n",
    "class(fpkm_mat) <- 'numeric'\n",
    "\n",
    "# standardize\n",
    "fpkm_standard_mat <- t(scale(t(fpkm_mat)))\n",
    "\n",
    "# pull out individual brain region DE gene list\n",
    "hip_genes <- brain_reg_sig_genes$hip_genes\n",
    "\n",
    "# subset FPKM matrix to just HIP samples and HIP DE genes\n",
    "hip_samples <- sample_info$rnaseq_profile_id[which(sample_info$structure_acronym == 'HIP')]\n",
    "hip_data <- fpkm_standard_mat[hip_genes, colnames(fpkm_standard_mat) %in% hip_samples]"
   ]
  },
  {
   "cell_type": "markdown",
   "metadata": {},
   "source": [
    "### $k$-Medoids Clustering Using CLARA  \n",
    "[$k$-medoids](https://en.wikipedia.org/wiki/K-medoids) is a partitioning method much like $k$-means. The difference is that in $k$-medoids specific data points (called medoids) are representative of clusters instead of the means of the values in the cluster. Medoids are points in a cluster with the lowest average dissimilarity with all the other members of the cluster. Because it's based on medoids instead of means, $k$-medoids is considered more robust to noise than $k$-means.  \n",
    "\n",
    "$k$-medoids can be computed using an algorithm called \"partitioning around medoids\", or *PAM*. CLARA (Clustering Large Applications) is special version of PAM that is performed on subsets. This has the advantage of speeding up computation on datasets with large numbers of observations. The optimal set of medoids are those which minimize the mean dissimilarity between every observation in the dataset and themselves. There's a solid overview of $k$-medoids and PAM [here](http://www.sthda.com/english/articles/27-partitioning-clustering-essentials/88-k-medoids-essentials/), and of CLARA [here](http://www.sthda.com/english/articles/27-partitioning-clustering-essentials/89-clara-clustering-large-applications/).  \n",
    "\n",
    "Because of the sampling nature of CLARA, we'll have to specify both the number of samples (which is equivalent to the number of times PAM is performed) and the size of the samples. As with $k$-means, we need to pre-specifiy the value of $k$, the number of clusters. The optimal value of $k$ was determined using the `clValid` package we discussed in [the last post](http://blog.vislaywade.com/clustering-experiments-feature-engineering-with-clValid/). Below is a plot of the mean [silhouette value](https://en.wikipedia.org/wiki/Silhouette_(clustering)), a measure of how similar an observation is to the others in its cluster, versus $k$ generated using `clValid`. "
   ]
  },
  {
   "cell_type": "markdown",
   "metadata": {},
   "source": [
    "![clValid plot](../data/hip_k2-25_silhouette_plot.png)"
   ]
  },
  {
   "cell_type": "markdown",
   "metadata": {},
   "source": [
    "We see that the highest average silhouette value for CLARA (red) was obtained using $k=3$. We'll run PAM on 1000 samples of 250 observations each."
   ]
  },
  {
   "cell_type": "code",
   "execution_count": 4,
   "metadata": {},
   "outputs": [],
   "source": [
    "# run CLARA on HIP FPKM values\n",
    "hip_final_clara <- clara(hip_data, k=3, metric = 'euclidean',\n",
    "                         samples=1000, sampsize=250, pamLike=TRUE)"
   ]
  },
  {
   "cell_type": "markdown",
   "metadata": {},
   "source": [
    "The `cluster` package has a `plot()` function in it that produces two very helpful visualizations of the resulting clustering by CLARA. The first is a *principal component plot*, which plots the data along the first two principal components as a way of reducing the dimensionality so the data can be visualized. The second is a plot of the average silhouette values for the observations used to determine the clustering. We'll make the plots and discuss them in greater detail below.  "
   ]
  },
  {
   "cell_type": "code",
   "execution_count": 5,
   "metadata": {},
   "outputs": [
    {
     "data": {
      "image/png": "[encoded data removed]",
      "text/plain": [
       "Plot with title \"CLARA Clusters for Hippocampus DE Genes\""
      ]
     },
     "metadata": {},
     "output_type": "display_data",
     "source": "R display func"
    },
    {
     "data": {
      "image/png": "[encoded data removed]",
      "text/plain": [
       "Plot with title \"CLARA Clusters for Hippocampus DE Genes\""
      ]
     },
     "metadata": {},
     "output_type": "display_data",
     "source": "R display func"
    }
   ],
   "source": [
    "plot(hip_final_clara, color=TRUE, shade=TRUE, \n",
    "     labels=4, col.txt='black',\n",
    "     col.p='black', col.clus=c('seagreen3', 'steelblue3', 'violetred3', 'sienna3'),\n",
    "     cex=2, main = 'CLARA Clusters for Hippocampus DE Genes',\n",
    "     ylim=c(-12,12),\n",
    "     lwd=2,\n",
    "     lty=3)"
   ]
  },
  {
   "cell_type": "markdown",
   "metadata": {},
   "source": [
    "Using principal components to visualize clustering is a neat trick. Recall that principal components analysis results in a transformation of the data such that it resides in a space defined by a set of uncorrelated, orthogonal axes whereby the first direction accounts for the greatest amount of variance, the second accounts the next greatest amount, and so on. If there are natural groupings in the data, we might be able to visualize them in this new space. It's similar to the multidimensional scaling [we used on this data before](http://blog.vislaywade.com/EDA-gene-expression-data-part-1-multidimensional-scaling/). The `plot()` method for `clara()` objects draws normal confidence ellipses around the clusters to better visualize them. We can easily see where CLARA draws the $k=3$ clusters we instructed it to find.  \n",
    "\n",
    "The second plot shows how well the observations fit into their clusters. Silhouette widths range from -1 to +1 with higher values indicating that the observation has a high degree of similarity with the others in its cluster. The silhouette values in the plot above are broken up by cluster. We're given the cluster number ($j$), the number of observations it has ($n_j$), and the clusterwise average silhouette width ($ave_{i \\in C_j}$). We can see that only a few observations appear to be mis-clustered in cluster $j=1$ (they're the ones with negative silhouette widths so the bars point to the left)."
   ]
  },
  {
   "cell_type": "markdown",
   "metadata": {},
   "source": [
    "### Extracting Cluster Medoids & Creating New Features  \n",
    "With $k$-medoids, it's the values of an *observation* that serve to represent or summarize all the members of a cluster. In the present situation, that observation is a gene, and we want to use its expression levels as a new feature for constructing models of dementia risk in patients. We have three clusters so the three medoids for those clusters will be three new features. The `cluster` package makes it easy to find the medoids. They're in an attribute of the object we created when we used the `clara()` function. Here's a list of everything in that object, including the `medoids` attribute."
   ]
  },
  {
   "cell_type": "code",
   "execution_count": 6,
   "metadata": {},
   "outputs": [
    {
     "data": {
      "text/html": [
       "<ol class=list-inline>\n",
       "\t<li>'sample'</li>\n",
       "\t<li>'medoids'</li>\n",
       "\t<li>'i.med'</li>\n",
       "\t<li>'clustering'</li>\n",
       "\t<li>'objective'</li>\n",
       "\t<li>'clusinfo'</li>\n",
       "\t<li>'diss'</li>\n",
       "\t<li>'call'</li>\n",
       "\t<li>'silinfo'</li>\n",
       "\t<li>'data'</li>\n",
       "</ol>\n"
      ],
      "text/latex": [
       "\\begin{enumerate*}\n",
       "\\item 'sample'\n",
       "\\item 'medoids'\n",
       "\\item 'i.med'\n",
       "\\item 'clustering'\n",
       "\\item 'objective'\n",
       "\\item 'clusinfo'\n",
       "\\item 'diss'\n",
       "\\item 'call'\n",
       "\\item 'silinfo'\n",
       "\\item 'data'\n",
       "\\end{enumerate*}\n"
      ],
      "text/markdown": [
       "1. 'sample'\n",
       "2. 'medoids'\n",
       "3. 'i.med'\n",
       "4. 'clustering'\n",
       "5. 'objective'\n",
       "6. 'clusinfo'\n",
       "7. 'diss'\n",
       "8. 'call'\n",
       "9. 'silinfo'\n",
       "10. 'data'\n",
       "\n",
       "\n"
      ],
      "text/plain": [
       " [1] \"sample\"     \"medoids\"    \"i.med\"      \"clustering\" \"objective\" \n",
       " [6] \"clusinfo\"   \"diss\"       \"call\"       \"silinfo\"    \"data\"      "
      ]
     },
     "metadata": {},
     "output_type": "display_data"
    }
   ],
   "source": [
    "names(hip_final_clara)"
   ]
  },
  {
   "cell_type": "markdown",
   "metadata": {},
   "source": [
    "We'll pull `medoids` into a variable and take a look at them for the first 10 hippocampus samples."
   ]
  },
  {
   "cell_type": "code",
   "execution_count": 7,
   "metadata": {},
   "outputs": [
    {
     "data": {
      "text/html": [
       "<table>\n",
       "<thead><tr><th></th><th scope=col>496100281</th><th scope=col>496100288</th><th scope=col>496100294</th><th scope=col>496100303</th><th scope=col>496100304</th><th scope=col>496100312</th><th scope=col>496100313</th><th scope=col>496100314</th><th scope=col>496100319</th><th scope=col>496100321</th></tr></thead>\n",
       "<tbody>\n",
       "\t<tr><th scope=row>26020</th><td> 0.3317732 </td><td>0.26347522 </td><td> 2.0606351 </td><td> 0.8543782 </td><td> 0.4829756 </td><td> 0.7175302 </td><td> 0.4752763 </td><td> 0.06980942</td><td> 0.08110504</td><td> 0.08950004</td></tr>\n",
       "\t<tr><th scope=row>10769</th><td> 1.6258326 </td><td>1.38978200 </td><td> 0.8021832 </td><td>-0.3410481 </td><td> 0.8054459 </td><td> 1.3898618 </td><td> 1.2999047 </td><td> 1.29193922</td><td> 1.24369759</td><td> 0.77390410</td></tr>\n",
       "\t<tr><th scope=row>4674</th><td>-0.1452548 </td><td>0.07374355 </td><td>-0.7937299 </td><td>-0.7605901 </td><td>-0.2901150 </td><td>-0.7495727 </td><td>-0.3333151 </td><td>-0.20424814</td><td>-0.10017950</td><td>-1.00893383</td></tr>\n",
       "</tbody>\n",
       "</table>\n"
      ],
      "text/latex": [
       "\\begin{tabular}{r|llllllllll}\n",
       "  & 496100281 & 496100288 & 496100294 & 496100303 & 496100304 & 496100312 & 496100313 & 496100314 & 496100319 & 496100321\\\\\n",
       "\\hline\n",
       "\t26020 &  0.3317732  & 0.26347522  &  2.0606351  &  0.8543782  &  0.4829756  &  0.7175302  &  0.4752763  &  0.06980942 &  0.08110504 &  0.08950004\\\\\n",
       "\t10769 &  1.6258326  & 1.38978200  &  0.8021832  & -0.3410481  &  0.8054459  &  1.3898618  &  1.2999047  &  1.29193922 &  1.24369759 &  0.77390410\\\\\n",
       "\t4674 & -0.1452548  & 0.07374355  & -0.7937299  & -0.7605901  & -0.2901150  & -0.7495727  & -0.3333151  & -0.20424814 & -0.10017950 & -1.00893383\\\\\n",
       "\\end{tabular}\n"
      ],
      "text/markdown": [
       "\n",
       "| <!--/--> | 496100281 | 496100288 | 496100294 | 496100303 | 496100304 | 496100312 | 496100313 | 496100314 | 496100319 | 496100321 | \n",
       "|---|---|---|\n",
       "| 26020 |  0.3317732  | 0.26347522  |  2.0606351  |  0.8543782  |  0.4829756  |  0.7175302  |  0.4752763  |  0.06980942 |  0.08110504 |  0.08950004 | \n",
       "| 10769 |  1.6258326  | 1.38978200  |  0.8021832  | -0.3410481  |  0.8054459  |  1.3898618  |  1.2999047  |  1.29193922 |  1.24369759 |  0.77390410 | \n",
       "| 4674 | -0.1452548  | 0.07374355  | -0.7937299  | -0.7605901  | -0.2901150  | -0.7495727  | -0.3333151  | -0.20424814 | -0.10017950 | -1.00893383 | \n",
       "\n",
       "\n"
      ],
      "text/plain": [
       "      496100281  496100288  496100294  496100303  496100304  496100312 \n",
       "26020  0.3317732 0.26347522  2.0606351  0.8543782  0.4829756  0.7175302\n",
       "10769  1.6258326 1.38978200  0.8021832 -0.3410481  0.8054459  1.3898618\n",
       "4674  -0.1452548 0.07374355 -0.7937299 -0.7605901 -0.2901150 -0.7495727\n",
       "      496100313  496100314   496100319   496100321  \n",
       "26020  0.4752763  0.06980942  0.08110504  0.08950004\n",
       "10769  1.2999047  1.29193922  1.24369759  0.77390410\n",
       "4674  -0.3333151 -0.20424814 -0.10017950 -1.00893383"
      ]
     },
     "metadata": {},
     "output_type": "display_data"
    }
   ],
   "source": [
    "hip_cluster_variables <- hip_final_clara$medoids\n",
    "hip_cluster_variables[ , c(1:10)]"
   ]
  },
  {
   "cell_type": "markdown",
   "metadata": {},
   "source": [
    "The row names again are Entrez Gene database identification numbers. What are the names of the medoid genes? We can look in the `genes` table we loaded to find out!"
   ]
  },
  {
   "cell_type": "code",
   "execution_count": 8,
   "metadata": {},
   "outputs": [
    {
     "data": {
      "text/html": [
       "<table>\n",
       "<thead><tr><th></th><th scope=col>gene_id</th><th scope=col>chromosome</th><th scope=col>gene_entrez_id</th><th scope=col>gene_symbol</th><th scope=col>gene_name</th></tr></thead>\n",
       "<tbody>\n",
       "\t<tr><th scope=row>13930</th><td>499318611                                          </td><td>5                                                  </td><td>10769                                              </td><td>PLK2                                               </td><td>polo-like kinase 2                                 </td></tr>\n",
       "\t<tr><th scope=row>33926</th><td>499338662                                          </td><td>14                                                 </td><td>26020                                              </td><td>LRP10                                              </td><td>low density lipoprotein receptor-related protein 10</td></tr>\n",
       "\t<tr><th scope=row>48716</th><td>499353496                                          </td><td>X                                                  </td><td> 4674                                              </td><td>NAP1L2                                             </td><td>nucleosome assembly protein 1-like 2               </td></tr>\n",
       "</tbody>\n",
       "</table>\n"
      ],
      "text/latex": [
       "\\begin{tabular}{r|lllll}\n",
       "  & gene\\_id & chromosome & gene\\_entrez\\_id & gene\\_symbol & gene\\_name\\\\\n",
       "\\hline\n",
       "\t13930 & 499318611                                           & 5                                                   & 10769                                               & PLK2                                                & polo-like kinase 2                                 \\\\\n",
       "\t33926 & 499338662                                           & 14                                                  & 26020                                               & LRP10                                               & low density lipoprotein receptor-related protein 10\\\\\n",
       "\t48716 & 499353496                                           & X                                                   &  4674                                               & NAP1L2                                              & nucleosome assembly protein 1-like 2               \\\\\n",
       "\\end{tabular}\n"
      ],
      "text/markdown": [
       "\n",
       "| <!--/--> | gene_id | chromosome | gene_entrez_id | gene_symbol | gene_name | \n",
       "|---|---|---|\n",
       "| 13930 | 499318611                                           | 5                                                   | 10769                                               | PLK2                                                | polo-like kinase 2                                  | \n",
       "| 33926 | 499338662                                           | 14                                                  | 26020                                               | LRP10                                               | low density lipoprotein receptor-related protein 10 | \n",
       "| 48716 | 499353496                                           | X                                                   |  4674                                               | NAP1L2                                              | nucleosome assembly protein 1-like 2                | \n",
       "\n",
       "\n"
      ],
      "text/plain": [
       "      gene_id   chromosome gene_entrez_id gene_symbol\n",
       "13930 499318611 5          10769          PLK2       \n",
       "33926 499338662 14         26020          LRP10      \n",
       "48716 499353496 X           4674          NAP1L2     \n",
       "      gene_name                                          \n",
       "13930 polo-like kinase 2                                 \n",
       "33926 low density lipoprotein receptor-related protein 10\n",
       "48716 nucleosome assembly protein 1-like 2               "
      ]
     },
     "metadata": {},
     "output_type": "display_data"
    }
   ],
   "source": [
    "genes[which(genes$gene_entrez_id %in% rownames(hip_cluster_variables)), ]"
   ]
  },
  {
   "cell_type": "markdown",
   "metadata": {},
   "source": [
    "Where are these genes active in cells? What are they doing and what roles do they play in biological processes? We can take a look at the annotations we made last time to answer these questions. The `annotations` dataframe contains three lists for the three gene ontologies defined by the [Gene Ontology Consortium](http://www.geneontology.org/). They are:    \n",
    "\n",
    "1. *Cellular Component (CC)* - This is where the gene product is found in cells or other biological structures.  \n",
    "\n",
    "2. *Molecular Function (MF)* - This is what the gene product does.  \n",
    "\n",
    "3. *Biological Process (BP)* - This is what the gene is important for (biologically-speaking).  "
   ]
  },
  {
   "cell_type": "code",
   "execution_count": 9,
   "metadata": {},
   "outputs": [
    {
     "data": {
      "text/html": [
       "<table>\n",
       "<thead><tr><th></th><th scope=col>CC</th><th scope=col>MF</th><th scope=col>BP</th></tr></thead>\n",
       "<tbody>\n",
       "\t<tr><th scope=row>26020</th><td>membrane                                          </td><td>low-density lipoprotein particle receptor activity</td><td>receptor-mediated endocytosis                     </td></tr>\n",
       "\t<tr><th scope=row>10769</th><td>intracellular                                     </td><td>protein serine/threonine kinase activity          </td><td>regulation of centriole replication               </td></tr>\n",
       "\t<tr><th scope=row>4674</th><td>nucleus                                           </td><td>protein binding                                   </td><td>regulation of stem cell division                  </td></tr>\n",
       "</tbody>\n",
       "</table>\n"
      ],
      "text/latex": [
       "\\begin{tabular}{r|lll}\n",
       "  & CC & MF & BP\\\\\n",
       "\\hline\n",
       "\t26020 & membrane                                           & low-density lipoprotein particle receptor activity & receptor-mediated endocytosis                     \\\\\n",
       "\t10769 & intracellular                                      & protein serine/threonine kinase activity           & regulation of centriole replication               \\\\\n",
       "\t4674 & nucleus                                            & protein binding                                    & regulation of stem cell division                  \\\\\n",
       "\\end{tabular}\n"
      ],
      "text/markdown": [
       "\n",
       "| <!--/--> | CC | MF | BP | \n",
       "|---|---|---|\n",
       "| 26020 | membrane                                           | low-density lipoprotein particle receptor activity | receptor-mediated endocytosis                      | \n",
       "| 10769 | intracellular                                      | protein serine/threonine kinase activity           | regulation of centriole replication                | \n",
       "| 4674 | nucleus                                            | protein binding                                    | regulation of stem cell division                   | \n",
       "\n",
       "\n"
      ],
      "text/plain": [
       "      CC            MF                                                \n",
       "26020 membrane      low-density lipoprotein particle receptor activity\n",
       "10769 intracellular protein serine/threonine kinase activity          \n",
       "4674  nucleus       protein binding                                   \n",
       "      BP                                 \n",
       "26020 receptor-mediated endocytosis      \n",
       "10769 regulation of centriole replication\n",
       "4674  regulation of stem cell division   "
      ]
     },
     "metadata": {},
     "output_type": "display_data"
    }
   ],
   "source": [
    "annotations[which(rownames(annotations) %in% rownames(hip_cluster_variables)), ]"
   ]
  },
  {
   "cell_type": "markdown",
   "metadata": {},
   "source": [
    "Now, this is only a partial annotation of these genes. They could have multiple entries for each ontology but when we made the lists we simplified things by only taking the most common entry for each. That having been said, the biological process ontologies for these guys fit fairly well with some of what we know about dementia and Alzheimer's disease$^{1,2}$.  \n",
    "\n",
    "As much as I'd like to dig into the biology here, we're going to push on with the data science and talk about constructing a dataset for model building. "
   ]
  },
  {
   "cell_type": "markdown",
   "metadata": {},
   "source": [
    "### Reshaping a Dataset & Adding The New Features  \n",
    "The goal of this project is to build models of dementia risk. To do that, we want our observations to be *people*. The problem is that we have multiple brain tissue samples from different parts of the brain for each donor. Let's take a look at the table containing all the molecular quantifications *besides* gene expression levels. We download it from the study website."
   ]
  },
  {
   "cell_type": "code",
   "execution_count": 21,
   "metadata": {},
   "outputs": [
    {
     "data": {
      "text/html": [
       "<ol class=list-inline>\n",
       "\t<li>377</li>\n",
       "\t<li>33</li>\n",
       "</ol>\n"
      ],
      "text/latex": [
       "\\begin{enumerate*}\n",
       "\\item 377\n",
       "\\item 33\n",
       "\\end{enumerate*}\n"
      ],
      "text/markdown": [
       "1. 377\n",
       "2. 33\n",
       "\n",
       "\n"
      ],
      "text/plain": [
       "[1] 377  33"
      ]
     },
     "metadata": {},
     "output_type": "display_data"
    }
   ],
   "source": [
    "# Load Luminex protein, immunohistochemistry, and isoprostane quants\n",
    "neuropath_data <- data.frame(fread('http://aging.brain-map.org/api/v2/data/query.csv?criteria=model::ApiTbiDonorMetric,rma::options[num_rows$eqall]'))\n",
    "dim(neuropath_data)"
   ]
  },
  {
   "cell_type": "markdown",
   "metadata": {},
   "source": [
    "There are 33 variables from 377 tissue samples taken from 107 donors."
   ]
  },
  {
   "cell_type": "code",
   "execution_count": 22,
   "metadata": {},
   "outputs": [
    {
     "data": {
      "text/html": [
       "<ol class=list-inline>\n",
       "\t<li>'donor_id'</li>\n",
       "\t<li>'donor_name'</li>\n",
       "\t<li>'structure_id'</li>\n",
       "\t<li>'structure_acronym'</li>\n",
       "\t<li>'ihc_a_syn'</li>\n",
       "\t<li>'ihc_tau2_ffpe'</li>\n",
       "</ol>\n"
      ],
      "text/latex": [
       "\\begin{enumerate*}\n",
       "\\item 'donor\\_id'\n",
       "\\item 'donor\\_name'\n",
       "\\item 'structure\\_id'\n",
       "\\item 'structure\\_acronym'\n",
       "\\item 'ihc\\_a\\_syn'\n",
       "\\item 'ihc\\_tau2\\_ffpe'\n",
       "\\end{enumerate*}\n"
      ],
      "text/markdown": [
       "1. 'donor_id'\n",
       "2. 'donor_name'\n",
       "3. 'structure_id'\n",
       "4. 'structure_acronym'\n",
       "5. 'ihc_a_syn'\n",
       "6. 'ihc_tau2_ffpe'\n",
       "\n",
       "\n"
      ],
      "text/plain": [
       "[1] \"donor_id\"          \"donor_name\"        \"structure_id\"     \n",
       "[4] \"structure_acronym\" \"ihc_a_syn\"         \"ihc_tau2_ffpe\"    "
      ]
     },
     "metadata": {},
     "output_type": "display_data"
    }
   ],
   "source": [
    "head(names(neuropath_data))"
   ]
  },
  {
   "cell_type": "markdown",
   "metadata": {},
   "source": [
    "What we need is a table with `donor_id` down the side and each molecular measurement *per brain region* across the top. We'll begin by dropping a couple of redundant variables, `donor_name` (not their actual name) and `structure_id`. We don't need these because, essentially, the same information is in the `donor_id` and `structure_acronym` variables, respectively."
   ]
  },
  {
   "cell_type": "code",
   "execution_count": 12,
   "metadata": {},
   "outputs": [],
   "source": [
    "# drop donor_name and structure_id (not needed)\n",
    "cols_to_remove <- c('donor_name', 'structure_id')\n",
    "neuropath_data <- neuropath_data[ , !(names(neuropath_data) %in% cols_to_remove)]"
   ]
  },
  {
   "cell_type": "markdown",
   "metadata": {},
   "source": [
    "That should take us down to 31 columns."
   ]
  },
  {
   "cell_type": "code",
   "execution_count": 13,
   "metadata": {},
   "outputs": [
    {
     "data": {
      "text/html": [
       "<ol class=list-inline>\n",
       "\t<li>377</li>\n",
       "\t<li>31</li>\n",
       "</ol>\n"
      ],
      "text/latex": [
       "\\begin{enumerate*}\n",
       "\\item 377\n",
       "\\item 31\n",
       "\\end{enumerate*}\n"
      ],
      "text/markdown": [
       "1. 377\n",
       "2. 31\n",
       "\n",
       "\n"
      ],
      "text/plain": [
       "[1] 377  31"
      ]
     },
     "metadata": {},
     "output_type": "display_data"
    }
   ],
   "source": [
    "dim(neuropath_data)"
   ]
  },
  {
   "cell_type": "markdown",
   "metadata": {},
   "source": [
    "We can think of this data as being in \"long format\" with respect to `structure_acronym` when we'd rather have it in \"wide format\" (for a good discussion of the difference, see [this blog post](https://sejdemyr.github.io/r-tutorials/basics/wide-and-long/)). To get it into \"wide format\", with `donor_id` down the side and the quantifications *per brain region* across the top, we can use the [`reshape()` function](https://www.rdocumentation.org/packages/stats/versions/3.5.1/topics/reshape). For our purposes, we'll set the `idvar` argument equal to `donor_id`. That's the variable we want to identify our observations by. We set `timevar` equal to `structure_acronym` since we want to have our quantification variables *by brain region*, or structure. We'll take a look at the first few rows and a few random variables to see what `reshape()` does."
   ]
  },
  {
   "cell_type": "code",
   "execution_count": 14,
   "metadata": {},
   "outputs": [
    {
     "data": {
      "text/html": [
       "<table>\n",
       "<thead><tr><th></th><th scope=col>donor_id</th><th scope=col>vegf_pg_per_mg.FWM</th><th scope=col>ihc_a_beta.PCx</th><th scope=col>ihc_gfap_ffpe.TCx</th><th scope=col>tnf_a_pg_per_mg.HIP</th></tr></thead>\n",
       "<tbody>\n",
       "\t<tr><th scope=row>1</th><td>309335467  </td><td>0.33       </td><td>0.046150806</td><td>0.02180811 </td><td> 5.00      </td></tr>\n",
       "\t<tr><th scope=row>2</th><td>309335480  </td><td>1.74       </td><td>0.008108064</td><td>0.07107005 </td><td>   NA      </td></tr>\n",
       "\t<tr><th scope=row>3</th><td>309335493  </td><td>1.02       </td><td>0.069108488</td><td>0.03705643 </td><td>22.56      </td></tr>\n",
       "\t<tr><th scope=row>4</th><td>326765668  </td><td>2.92       </td><td>0.058136356</td><td>0.02333667 </td><td>26.98      </td></tr>\n",
       "\t<tr><th scope=row>6</th><td>467056408  </td><td>0.00       </td><td>0.013551929</td><td>0.03316191 </td><td>14.88      </td></tr>\n",
       "</tbody>\n",
       "</table>\n"
      ],
      "text/latex": [
       "\\begin{tabular}{r|lllll}\n",
       "  & donor\\_id & vegf\\_pg\\_per\\_mg.FWM & ihc\\_a\\_beta.PCx & ihc\\_gfap\\_ffpe.TCx & tnf\\_a\\_pg\\_per\\_mg.HIP\\\\\n",
       "\\hline\n",
       "\t1 & 309335467   & 0.33        & 0.046150806 & 0.02180811  &  5.00      \\\\\n",
       "\t2 & 309335480   & 1.74        & 0.008108064 & 0.07107005  &    NA      \\\\\n",
       "\t3 & 309335493   & 1.02        & 0.069108488 & 0.03705643  & 22.56      \\\\\n",
       "\t4 & 326765668   & 2.92        & 0.058136356 & 0.02333667  & 26.98      \\\\\n",
       "\t6 & 467056408   & 0.00        & 0.013551929 & 0.03316191  & 14.88      \\\\\n",
       "\\end{tabular}\n"
      ],
      "text/markdown": [
       "\n",
       "| <!--/--> | donor_id | vegf_pg_per_mg.FWM | ihc_a_beta.PCx | ihc_gfap_ffpe.TCx | tnf_a_pg_per_mg.HIP | \n",
       "|---|---|---|---|---|\n",
       "| 1 | 309335467   | 0.33        | 0.046150806 | 0.02180811  |  5.00       | \n",
       "| 2 | 309335480   | 1.74        | 0.008108064 | 0.07107005  |    NA       | \n",
       "| 3 | 309335493   | 1.02        | 0.069108488 | 0.03705643  | 22.56       | \n",
       "| 4 | 326765668   | 2.92        | 0.058136356 | 0.02333667  | 26.98       | \n",
       "| 6 | 467056408   | 0.00        | 0.013551929 | 0.03316191  | 14.88       | \n",
       "\n",
       "\n"
      ],
      "text/plain": [
       "  donor_id  vegf_pg_per_mg.FWM ihc_a_beta.PCx ihc_gfap_ffpe.TCx\n",
       "1 309335467 0.33               0.046150806    0.02180811       \n",
       "2 309335480 1.74               0.008108064    0.07107005       \n",
       "3 309335493 1.02               0.069108488    0.03705643       \n",
       "4 326765668 2.92               0.058136356    0.02333667       \n",
       "6 467056408 0.00               0.013551929    0.03316191       \n",
       "  tnf_a_pg_per_mg.HIP\n",
       "1  5.00              \n",
       "2    NA              \n",
       "3 22.56              \n",
       "4 26.98              \n",
       "6 14.88              "
      ]
     },
     "metadata": {},
     "output_type": "display_data"
    }
   ],
   "source": [
    "# reshape to wide format, donor_id down the side, variables by brain region across the top\n",
    "reshaped <- reshape(neuropath_data, direction = 'wide', \n",
    "                    idvar = 'donor_id', timevar = 'structure_acronym')\n",
    "reshaped[c(1:5), c(1, 12, 37, 68, 101)]"
   ]
  },
  {
   "cell_type": "markdown",
   "metadata": {},
   "source": [
    "As you can see, R has added the brain region each quantification is from to the column name. FWM, PCx, and TCx stand for \"forebrain white matter\", \"parietal cortex\", and \"temporal cortex\", respectively. Those are the other three brain regions besides the hippocampus (HIP) in the dataset.\n",
    "\n",
    "Now if we check the dimensions of the reshaped dataframe, we should have 107 rows (for 107 donors) and several more columns than the 31 we had before."
   ]
  },
  {
   "cell_type": "code",
   "execution_count": 15,
   "metadata": {},
   "outputs": [
    {
     "data": {
      "text/html": [
       "<ol class=list-inline>\n",
       "\t<li>107</li>\n",
       "\t<li>117</li>\n",
       "</ol>\n"
      ],
      "text/latex": [
       "\\begin{enumerate*}\n",
       "\\item 107\n",
       "\\item 117\n",
       "\\end{enumerate*}\n"
      ],
      "text/markdown": [
       "1. 107\n",
       "2. 117\n",
       "\n",
       "\n"
      ],
      "text/plain": [
       "[1] 107 117"
      ]
     },
     "metadata": {},
     "output_type": "display_data"
    }
   ],
   "source": [
    "dim(reshaped)"
   ]
  },
  {
   "cell_type": "markdown",
   "metadata": {},
   "source": [
    "Excellent! We'll go ahead and set the row names as `donor_id`."
   ]
  },
  {
   "cell_type": "code",
   "execution_count": 16,
   "metadata": {},
   "outputs": [],
   "source": [
    "# set donor_id as row names\n",
    "rownames(reshaped) <- reshaped$donor_id\n",
    "reshaped$donor_id <- NULL"
   ]
  },
  {
   "cell_type": "markdown",
   "metadata": {},
   "source": [
    "Now, we're going to rename the rows and columns of the new hippocampus gene cluster variables. We'll give the variables names in the format that R has for the rest of the variables after reshaping them, with the structure acronym after a dot following the name of the quantification. The columns we'll label with the `donor_id`. Finally, we'll transpose so that we end up with donors down the side and the new variables across the top."
   ]
  },
  {
   "cell_type": "code",
   "execution_count": 17,
   "metadata": {},
   "outputs": [
    {
     "data": {
      "text/html": [
       "<table>\n",
       "<thead><tr><th></th><th scope=col>gene_cluster01.HIP</th><th scope=col>gene_cluster02.HIP</th><th scope=col>gene_cluster03.HIP</th></tr></thead>\n",
       "<tbody>\n",
       "\t<tr><th scope=row>309335438</th><td>0.3317732  </td><td> 1.6258326 </td><td>-0.14525478</td></tr>\n",
       "\t<tr><th scope=row>309335439</th><td>0.2634752  </td><td> 1.3897820 </td><td> 0.07374355</td></tr>\n",
       "\t<tr><th scope=row>309335440</th><td>2.0606351  </td><td> 0.8021832 </td><td>-0.79372987</td></tr>\n",
       "\t<tr><th scope=row>309335441</th><td>0.8543782  </td><td>-0.3410481 </td><td>-0.76059007</td></tr>\n",
       "\t<tr><th scope=row>309335442</th><td>0.4829756  </td><td> 0.8054459 </td><td>-0.29011496</td></tr>\n",
       "\t<tr><th scope=row>309335443</th><td>0.7175302  </td><td> 1.3898618 </td><td>-0.74957275</td></tr>\n",
       "</tbody>\n",
       "</table>\n"
      ],
      "text/latex": [
       "\\begin{tabular}{r|lll}\n",
       "  & gene\\_cluster01.HIP & gene\\_cluster02.HIP & gene\\_cluster03.HIP\\\\\n",
       "\\hline\n",
       "\t309335438 & 0.3317732   &  1.6258326  & -0.14525478\\\\\n",
       "\t309335439 & 0.2634752   &  1.3897820  &  0.07374355\\\\\n",
       "\t309335440 & 2.0606351   &  0.8021832  & -0.79372987\\\\\n",
       "\t309335441 & 0.8543782   & -0.3410481  & -0.76059007\\\\\n",
       "\t309335442 & 0.4829756   &  0.8054459  & -0.29011496\\\\\n",
       "\t309335443 & 0.7175302   &  1.3898618  & -0.74957275\\\\\n",
       "\\end{tabular}\n"
      ],
      "text/markdown": [
       "\n",
       "| <!--/--> | gene_cluster01.HIP | gene_cluster02.HIP | gene_cluster03.HIP | \n",
       "|---|---|---|---|---|---|\n",
       "| 309335438 | 0.3317732   |  1.6258326  | -0.14525478 | \n",
       "| 309335439 | 0.2634752   |  1.3897820  |  0.07374355 | \n",
       "| 309335440 | 2.0606351   |  0.8021832  | -0.79372987 | \n",
       "| 309335441 | 0.8543782   | -0.3410481  | -0.76059007 | \n",
       "| 309335442 | 0.4829756   |  0.8054459  | -0.29011496 | \n",
       "| 309335443 | 0.7175302   |  1.3898618  | -0.74957275 | \n",
       "\n",
       "\n"
      ],
      "text/plain": [
       "          gene_cluster01.HIP gene_cluster02.HIP gene_cluster03.HIP\n",
       "309335438 0.3317732           1.6258326         -0.14525478       \n",
       "309335439 0.2634752           1.3897820          0.07374355       \n",
       "309335440 2.0606351           0.8021832         -0.79372987       \n",
       "309335441 0.8543782          -0.3410481         -0.76059007       \n",
       "309335442 0.4829756           0.8054459         -0.29011496       \n",
       "309335443 0.7175302           1.3898618         -0.74957275       "
      ]
     },
     "metadata": {},
     "output_type": "display_data"
    }
   ],
   "source": [
    "# change rownames\n",
    "rownames(hip_cluster_variables) <- c('gene_cluster01.HIP', 'gene_cluster02.HIP', 'gene_cluster03.HIP')\n",
    "\n",
    "# set colnames to donor_ids corresponding to rnaseq_profile_ids (colnames for hip_cluster_variables)\n",
    "colnames(hip_cluster_variables) <- sample_info$donor_id[which(sample_info$rnaseq_profile_id %in% colnames(hip_cluster_variables))]\n",
    "\n",
    "# transpose for merging\n",
    "hip_cluster_variables <- t(hip_cluster_variables)\n",
    "\n",
    "head(hip_cluster_variables)"
   ]
  },
  {
   "cell_type": "markdown",
   "metadata": {},
   "source": [
    "Now it's just a matter of merging the `reshaped` molecular quantification dataframe with the one containing the new gene cluster variables, `hip_cluster_variables`. The `reshaped` dataframe initially had 107 rows and 116 columns after we set `donor_id` as the row names. After setting `donor_id` as the row names in the new, merged dataframe, we should still have 107 rows but now have 119 columns since we will have added the three gene cluster variables."
   ]
  },
  {
   "cell_type": "code",
   "execution_count": 18,
   "metadata": {},
   "outputs": [
    {
     "data": {
      "text/html": [
       "<ol class=list-inline>\n",
       "\t<li>107</li>\n",
       "\t<li>119</li>\n",
       "</ol>\n"
      ],
      "text/latex": [
       "\\begin{enumerate*}\n",
       "\\item 107\n",
       "\\item 119\n",
       "\\end{enumerate*}\n"
      ],
      "text/markdown": [
       "1. 107\n",
       "2. 119\n",
       "\n",
       "\n"
      ],
      "text/plain": [
       "[1] 107 119"
      ]
     },
     "metadata": {},
     "output_type": "display_data"
    }
   ],
   "source": [
    "# add HIP genetic variables\n",
    "data_plus_hip <- merge(reshaped, hip_cluster_variables, by='row.names', all=TRUE)\n",
    "\n",
    "# clean up row names\n",
    "rownames(data_plus_hip) <- data_plus_hip$Row.names\n",
    "data_plus_hip$Row.names <- NULL\n",
    "\n",
    "dim(data_plus_hip)"
   ]
  },
  {
   "cell_type": "markdown",
   "metadata": {},
   "source": [
    "That looks right! We can take a peak at the new variables, which were added to the very end of the table."
   ]
  },
  {
   "cell_type": "code",
   "execution_count": 19,
   "metadata": {},
   "outputs": [
    {
     "data": {
      "text/html": [
       "<table>\n",
       "<thead><tr><th></th><th scope=col>mip_1a_pg_per_mg.HIP</th><th scope=col>il_7_pg_per_mg.HIP</th><th scope=col>ab42_pg_per_mg.HIP</th><th scope=col>gene_cluster01.HIP</th><th scope=col>gene_cluster02.HIP</th><th scope=col>gene_cluster03.HIP</th></tr></thead>\n",
       "<tbody>\n",
       "\t<tr><th scope=row>309335438</th><td> 51.08     </td><td>0.16       </td><td>  0.2357875</td><td>0.3317732  </td><td> 1.6258326 </td><td>-0.14525478</td></tr>\n",
       "\t<tr><th scope=row>309335439</th><td>112.92     </td><td>0.72       </td><td>  0.3083375</td><td>0.2634752  </td><td> 1.3897820 </td><td> 0.07374355</td></tr>\n",
       "\t<tr><th scope=row>309335440</th><td>    NA     </td><td>  NA       </td><td>         NA</td><td>2.0606351  </td><td> 0.8021832 </td><td>-0.79372987</td></tr>\n",
       "\t<tr><th scope=row>309335441</th><td> 16.30     </td><td>0.46       </td><td>529.1107250</td><td>0.8543782  </td><td>-0.3410481 </td><td>-0.76059007</td></tr>\n",
       "\t<tr><th scope=row>309335442</th><td> 35.42     </td><td>1.80       </td><td>315.7495250</td><td>0.4829756  </td><td> 0.8054459 </td><td>-0.29011496</td></tr>\n",
       "</tbody>\n",
       "</table>\n"
      ],
      "text/latex": [
       "\\begin{tabular}{r|llllll}\n",
       "  & mip\\_1a\\_pg\\_per\\_mg.HIP & il\\_7\\_pg\\_per\\_mg.HIP & ab42\\_pg\\_per\\_mg.HIP & gene\\_cluster01.HIP & gene\\_cluster02.HIP & gene\\_cluster03.HIP\\\\\n",
       "\\hline\n",
       "\t309335438 &  51.08      & 0.16        &   0.2357875 & 0.3317732   &  1.6258326  & -0.14525478\\\\\n",
       "\t309335439 & 112.92      & 0.72        &   0.3083375 & 0.2634752   &  1.3897820  &  0.07374355\\\\\n",
       "\t309335440 &     NA      &   NA        &          NA & 2.0606351   &  0.8021832  & -0.79372987\\\\\n",
       "\t309335441 &  16.30      & 0.46        & 529.1107250 & 0.8543782   & -0.3410481  & -0.76059007\\\\\n",
       "\t309335442 &  35.42      & 1.80        & 315.7495250 & 0.4829756   &  0.8054459  & -0.29011496\\\\\n",
       "\\end{tabular}\n"
      ],
      "text/markdown": [
       "\n",
       "| <!--/--> | mip_1a_pg_per_mg.HIP | il_7_pg_per_mg.HIP | ab42_pg_per_mg.HIP | gene_cluster01.HIP | gene_cluster02.HIP | gene_cluster03.HIP | \n",
       "|---|---|---|---|---|\n",
       "| 309335438 |  51.08      | 0.16        |   0.2357875 | 0.3317732   |  1.6258326  | -0.14525478 | \n",
       "| 309335439 | 112.92      | 0.72        |   0.3083375 | 0.2634752   |  1.3897820  |  0.07374355 | \n",
       "| 309335440 |     NA      |   NA        |          NA | 2.0606351   |  0.8021832  | -0.79372987 | \n",
       "| 309335441 |  16.30      | 0.46        | 529.1107250 | 0.8543782   | -0.3410481  | -0.76059007 | \n",
       "| 309335442 |  35.42      | 1.80        | 315.7495250 | 0.4829756   |  0.8054459  | -0.29011496 | \n",
       "\n",
       "\n"
      ],
      "text/plain": [
       "          mip_1a_pg_per_mg.HIP il_7_pg_per_mg.HIP ab42_pg_per_mg.HIP\n",
       "309335438  51.08               0.16                 0.2357875       \n",
       "309335439 112.92               0.72                 0.3083375       \n",
       "309335440     NA                 NA                        NA       \n",
       "309335441  16.30               0.46               529.1107250       \n",
       "309335442  35.42               1.80               315.7495250       \n",
       "          gene_cluster01.HIP gene_cluster02.HIP gene_cluster03.HIP\n",
       "309335438 0.3317732           1.6258326         -0.14525478       \n",
       "309335439 0.2634752           1.3897820          0.07374355       \n",
       "309335440 2.0606351           0.8021832         -0.79372987       \n",
       "309335441 0.8543782          -0.3410481         -0.76059007       \n",
       "309335442 0.4829756           0.8054459         -0.29011496       "
      ]
     },
     "metadata": {},
     "output_type": "display_data"
    }
   ],
   "source": [
    "data_plus_hip[c(1:5), c(114:119)]"
   ]
  },
  {
   "cell_type": "markdown",
   "metadata": {},
   "source": [
    "There they are! The dataset is starting to look like something we can use for building models of dementia risk. We just need to add gene expression level cluster variables for the the remaining three brain regions (FWM, PCx, & TCx) and some additional demographic and medical history data.  \n",
    "\n",
    "Next time, we'll talk about using the finalized dataset to build models to predict dementia risk from this data. As you might have noticed, there's more features than samples ($p>n$) in our case so we'll discuss modeling strategies that can accomodate that situation.\n",
    "\n",
    "Thanks for reading!"
   ]
  },
  {
   "cell_type": "markdown",
   "metadata": {},
   "source": [
    "### References\n",
    "1. Ubhi, K. & Masliah, E. (2013). Alzheimer’s Disease: Recent Advances and Future Perspectives. *J Alzheimers Res*. **33**: S185-S194.  \n",
    "\n",
    "2. Marlatt MW, Lucassen PJ. (2010). Neurogenesis and Alzheimer's disease: Biology and pathophysiology in mice and men. *Curr Alzheimer Res*. **7**(2): 113-25. "
   ]
  },
  {
   "cell_type": "code",
   "execution_count": null,
   "metadata": {},
   "outputs": [],
   "source": []
  }
 ],
 "metadata": {
  "kernelspec": {
   "display_name": "R",
   "language": "R",
   "name": "ir"
  },
  "language_info": {
   "codemirror_mode": "r",
   "file_extension": ".r",
   "mimetype": "text/x-r-source",
   "name": "R",
   "pygments_lexer": "r",
   "version": "3.4.1"
  }
 },
 "nbformat": 4,
 "nbformat_minor": 2
}
