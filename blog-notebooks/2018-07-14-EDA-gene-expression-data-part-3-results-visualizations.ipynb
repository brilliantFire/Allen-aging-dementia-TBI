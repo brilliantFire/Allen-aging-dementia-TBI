{
 "cells": [
  {
   "cell_type": "markdown",
   "metadata": {},
   "source": [
    "---\n",
    "layout: post\n",
    "comments: true\n",
    "tags: dementia data-vizualization feature-engineering R-stats RNA-seq\n",
    "title: Differential Expression Analysis for Feature Engineering/Dimension Reduction\n",
    "---"
   ]
  },
  {
   "cell_type": "code",
   "execution_count": null,
   "metadata": {},
   "outputs": [],
   "source": [
    "setwd(..)"
   ]
  },
  {
   "cell_type": "markdown",
   "metadata": {},
   "source": [
    "We're back! \n",
    "\n",
    "In this post, I'll be sharing some of the results of the differential gene expression analysis I recently did using the RNA-seq gene expression data from the Allen Institute for Brain Science's [*Aging, Dementia, & TBI Study*](http://aging.brain-map.org/). This is part of an exploratory analysis I conducted prior to constructing models of dementia status using this and other data collected from postmortem brain tissue samples. The idea is to mine this data for information about factors contributing to dementia risk.  \n",
    "\n",
    "One major hurdle is the number of possible features. There are expression levels for 50,000+ genes in the dataset, each of which we can consider as a potential feature. It's likely that most of those 50,000+ will not exhibit differences with dementia. We can reduce the size of the dataset by determining which genes have expression levels that are significantly different between Dementia and No Dementia samples. \n",
    "\n",
    "#### To recap\n",
    "At this point, we have:  \n",
    "\n",
    "* [Loaded the gene expression data](http://blog.vislaywade.com/allen-dementia-gene-expression-data-load-R/) from the study website,  \n",
    "* [Used multidimensional scaling](http://blog.vislaywade.com/EDA-gene-expression-data-part-1-multidimensional-scaling/) to visualize relationships among the samples (including some [interactive plots](http://blog.vislaywade.com/interactive-MDS-plots-w-plotly/)), and;  \n",
    "* [Performed hypothesis testing](http://blog.vislaywade.com/EDA-gene-expression-data-part-2-hypothesis-testing/) to find genes that are expressed differently in Dementia versus No Dementia samples.  \n",
    "\n",
    "The multidimensional scaling plots suggested that the region of the brain the tissue sample came from or the sex of the donor might account for the greatest differences between gene expression profiles. Based on this result, we subset the samples both by brain region and by donor sex and looked for differentially expressed genes *within those groups*.\n",
    "\n",
    "#### On tap for this post...  \n",
    "1. *Identifying differentially expressed genes* - Using Venn diagrams, we'll take a look at how the cohort of genes we identify as differentially-expressed varies between brain region.  \n",
    "2. *Visualizations of expression levels for differentially expressed genes* - We'll use heatmaps and hierarchical clustering to dive into the expression patterns of the genes discussed in Part 1.  \n",
    "3. *Conclusions & next steps* - We'll discuss the results and what's up next.  \n",
    "\n",
    "All of the visualizations here (and more!) can be recreated from a script in the `EDA` folder of the [project repo](https://github.com/brilliantFire/Allen-aging-dementia-TBI) on GitHub (see the repo `README.md` for details). There's a Jupyter notebook version of this post in the repo, too.  \n",
    "\n",
    "Let's get started!"
   ]
  },
  {
   "cell_type": "markdown",
   "metadata": {},
   "source": [
    "### Identifying differentially-expressed genes\n",
    "First, let's load the libraries we'll use."
   ]
  },
  {
   "cell_type": "code",
   "execution_count": 2,
   "metadata": {},
   "outputs": [
    {
     "name": "stderr",
     "output_type": "stream",
     "text": [
      "\n",
      "Attaching package: 'dplyr'\n",
      "\n",
      "The following objects are masked from 'package:data.table':\n",
      "\n",
      "    between, first, last\n",
      "\n",
      "The following objects are masked from 'package:stats':\n",
      "\n",
      "    filter, lag\n",
      "\n",
      "The following objects are masked from 'package:base':\n",
      "\n",
      "    intersect, setdiff, setequal, union\n",
      "\n",
      "Loading required package: grid\n",
      "Loading required package: futile.logger\n",
      "\n",
      "Attaching package: 'gplots'\n",
      "\n",
      "The following object is masked from 'package:stats':\n",
      "\n",
      "    lowess\n",
      "\n",
      "Warning message:\n",
      "\"package 'edgeR' was built under R version 3.4.3\"Loading required package: limma\n",
      "Warning message:\n",
      "\"package 'limma' was built under R version 3.4.3\"\n",
      "Attaching package: 'reshape2'\n",
      "\n",
      "The following objects are masked from 'package:data.table':\n",
      "\n",
      "    dcast, melt\n",
      "\n"
     ]
    }
   ],
   "source": [
    "library(data.table)   # I/O\n",
    "library(dplyr)        # Entering the TIDYVERSE :)\n",
    "library(VennDiagram)  # For drawing Venn diagrams \n",
    "library(gplots)       # For more Venn stuff + heatmaps\n",
    "library(edgeR)        # test result classification\n",
    "library(reshape2)     # split open and melt some dataframes\n",
    "library(ggplot2)      # other visualizations"
   ]
  },
  {
   "cell_type": "markdown",
   "metadata": {},
   "source": [
    "Here, we load both the test results and the normalized count matrix for each brain region group. We'll limit ourselves to just the brain region groups for now. The code here assumes we're running the notebook version of this post from a cloned copy of the [project repo](https://github.com/brilliantFire/Allen-aging-dementia-TBI) where the output of previous scripts is in the `data` directory."
   ]
  },
  {
   "cell_type": "code",
   "execution_count": 3,
   "metadata": {},
   "outputs": [
    {
     "name": "stdout",
     "output_type": "stream",
     "text": [
      "[1] \"Loading hip group.\"\n",
      "[1] \"Loading fwm group.\"\n",
      "[1] \"Loading pcx group.\"\n",
      "[1] \"Loading tcx group.\"\n"
     ]
    }
   ],
   "source": [
    "# load dataframes with normalized counts and dispersions\n",
    "load_norm <- function(group, ...){\n",
    "    x_norm <- readRDS(file=paste('data/',group,'_norm_counts_disp_high_low.Rds',sep=''))\n",
    "    return(x_norm)\n",
    "}\n",
    "\n",
    "# load filtered results of exact tests + corrections for multiple comparisons\n",
    "load_results <- function(group, disp, ...){\n",
    "    x_results <- data.frame(readRDS(file=paste('data/',group,'_exact_test_results_p.02_high_low_',disp,'.Rds',sep='')))\n",
    "    return(x_results)\n",
    "}\n",
    "\n",
    "# loop loads data for all 4 brain region groups\n",
    "groups <- c('hip', 'fwm', 'pcx', 'tcx')\n",
    "for (group in groups){\n",
    "    print(paste('Loading', group, 'group.'))\n",
    "    flush.console()\n",
    "    # make variables names\n",
    "    norm_name <- paste(group,'_norm',sep='')\n",
    "    results_name <- paste(group, '_results',sep='')\n",
    "    # Assign output of load_norm and load_results to variable names\n",
    "    assign(norm_name, load_norm(group))\n",
    "    assign(results_name, load_results(group, 'auto'))\n",
    "}"
   ]
  },
  {
   "cell_type": "markdown",
   "metadata": {},
   "source": [
    "We used the `topTags()` function to correct for multiple comparisons using the Benjamini-Hochburg procedure  to control the [false discovery rate (FDR)](https://en.wikipedia.org/wiki/False_discovery_rate). The FDR is the proportion of results that we expect to be false positives. In other words, it's the percentage of genes that we say are differentially expressed in dementia but actually aren't. The lists we working with here contain *all* the genes in each brain region group with expression levels that differ significantly between Dementia and No Dementia samples at the $\\alpha=0.02$ level.\n",
    "\n",
    "The function below filters the list of genes by a specified adjusted p-value (contained in the `FDR` attribute) and returns the gene names. By setting `alpha` equal to 0.1 here, all the gene names are returned for each group. If we wanted to look at more stringent cutoffs (e.g. $\\alpha = 0.01$), we could using this function. For now, we'll be looking at all the genes in the lists."
   ]
  },
  {
   "cell_type": "code",
   "execution_count": 4,
   "metadata": {},
   "outputs": [],
   "source": [
    "# Function gets the names of genes with adjusted p-values (FDR) below a user-defined significance threshold; returns the list\n",
    "get_sig_genes <- function(test_results, alpha, ...){\n",
    "    # get names of genes with p <= p_value\n",
    "    x_names <- rownames(test_results)[test_results$FDR <= alpha]\n",
    "    # return list\n",
    "    return(x_names)\n",
    "}\n",
    "\n",
    "# p.value = 0.1 here returns all genes\n",
    "hip_genes <- get_sig_genes(hip_results, 0.1)\n",
    "fwm_genes <- get_sig_genes(fwm_results, 0.1)\n",
    "pcx_genes <- get_sig_genes(pcx_results, 0.1)\n",
    "tcx_genes <- get_sig_genes(tcx_results, 0.1)"
   ]
  },
  {
   "cell_type": "markdown",
   "metadata": {},
   "source": [
    "We can use a Venn diagram to look at how many of the genes overlap between the lists generated for the four brain regions. There's a bunch of methods out there to make Venn diagrams in R. Here we use `venn.diagram()` from the [`VennDiagram` library](https://bmcbioinformatics.biomedcentral.com/articles/10.1186/1471-2105-12-35). I like this method since it allows for easy customization of all sorts of graphical parameters."
   ]
  },
  {
   "cell_type": "code",
   "execution_count": 5,
   "metadata": {},
   "outputs": [
    {
     "data": {
      "image/png": "[encoded data removed]",
      "text/plain": [
       "plot without title"
      ]
     },
     "metadata": {},
     "output_type": "display_data"
    }
   ],
   "source": [
    "# use venn.diagram from the VennDiagram library\n",
    "brain_reg_venn <- venn.diagram(list(hip_genes=hip_genes,\n",
    "                                    fwm_genes=fwm_genes,\n",
    "                                    pcx_genes=pcx_genes,\n",
    "                                    tcx_genes=tcx_genes) , \n",
    "                               filename = NULL,\n",
    "                               imagetype='png',\n",
    "                               fill=c('red', 'blue', 'green', 'purple'),\n",
    "                               alpha=c(0.3,0.3,0.3,0.3), # transparency\n",
    "                               cex = 0.9, \n",
    "                               fontfamily='sans',\n",
    "                               cat.fontfamily='sans',\n",
    "                               category.names=c('hippocampus', 'forebrain WM', 'parietal ctx', 'temporal ctx'), \n",
    "                               main.fontfamily='sans',\n",
    "                               main='differentially-expressed genes by brain region',\n",
    "                               margin=0.001)\n",
    "\n",
    "# use grid.draw to show the plot                         \n",
    "grid.draw(brain_reg_venn)"
   ]
  },
  {
   "cell_type": "markdown",
   "metadata": {},
   "source": [
    "Only 29 of the genes identified as differentially-expressed in dementia under these conditions overlap between the four brain regions. We can grab their Entrez IDs using the `venn()` function from `gplots`. These ID numbers will allow us to identify the genes in the [NCBI Gene database system](https://www.ncbi.nlm.nih.gov/gene/). The Entrez IDs of the genes in each section of the Venn diagram are contained in an attribute called `intersections`. We'll pull out the 29 genes at the intersection of all four brain regions (`intersection_genes`)."
   ]
  },
  {
   "cell_type": "code",
   "execution_count": 6,
   "metadata": {},
   "outputs": [],
   "source": [
    "# use venn() from the gplots library to inspect contents\n",
    "venn_contents <- venn(list(hip_genes=hip_genes,\n",
    "                           fwm_genes=fwm_genes,\n",
    "                           pcx_genes=pcx_genes,\n",
    "                           tcx_genes=tcx_genes), show.plot=FALSE)\n",
    "# grab the intersections\n",
    "venn_intersections <- attr(venn_contents, 'intersections')\n",
    "# 29 genes in the intersection of all 4 brain regions\n",
    "intersection_genes <- venn_intersections$`hip_genes:fwm_genes:pcx_genes:tcx_genes`"
   ]
  },
  {
   "cell_type": "markdown",
   "metadata": {},
   "source": [
    "### Visualizing expression levels for differentially-expressed genes\n",
    "Heatmaps are a great way of visualizing a matrix of gene expression levels. To look at the differences in expression levels for the 29 intersection genes, we'll use the normalized matrix of FPKM values available from the [Allen Institute](http://aging.brain-map.org/download/index).  \n",
    "\n",
    "FPKM stands for 'Fragments Per Kilobase per Million'. These values are *counts that have been normalized for gene length*. By virtue of how RNA-seq works and how the data are analyzed, the counts we have are biased towards genes that are longer. Normalizing for gene length eliminates that bias, so we can make reasonable conclusions about the relative expression of one gene versus another *within the same sample*.\n",
    "\n",
    "We also need to be able to make comparisons *across samples*, so, in addition to being normalized for gene length, we also want our matrix to be normalized for technical variation *between samples*. The importance of between-sample normalization was discussed in [a previous post](http://blog.vislaywade.com/EDA-gene-expression-data-part-1-multidimensional-scaling/). The data we'll use here are available already normalized for between-sample technical variation (see [the data documentation called 'Quantitative Data Generation'](http://help.brain-map.org/display/aging/Documentation) for details).\n",
    "\n",
    "##### Extracting data from a .zip file using R  \n",
    "The data we're after are available in an archive file format ([.zip](https://en.wikipedia.org/wiki/Zip_(file_format)). We need two .csv files from the .zip: `fpkm_table_normalized.csv` and `rows-genes.csv`. The first is the matrix of normalized counts and the second is a list of gene names, chromosome loci, and other information, including the Entrez database numbers we're using as the row names in our count matrices. We'll use `utils::download.file()` to download the .zip to a temp file and `utils::unz()` to unzip them. The FPKM table is a big file so this might take a while. We'll time it to see how long it takes."
   ]
  },
  {
   "cell_type": "code",
   "execution_count": 7,
   "metadata": {},
   "outputs": [
    {
     "name": "stdout",
     "output_type": "stream",
     "text": [
      "[1] \"Time: 4.01 minutes\"\n"
     ]
    }
   ],
   "source": [
    "# start a timer\n",
    "start <- Sys.time()\n",
    "\n",
    "# get normalized FPKM data (.zip file) from Allen download page\n",
    "temp <- tempfile()\n",
    "download.file('http://aging.brain-map.org/api/v2/well_known_file_download/502999992', temp, mode='wb')\n",
    "\n",
    "# get list of genes out of the .zip\n",
    "rows_genes_table <- unz(temp, 'rows-genes.csv')\n",
    "genes <- data.frame(read.csv(rows_genes_table, header=TRUE))\n",
    "\n",
    "# get normalized FPKM table\n",
    "fpkm_table <- unz(temp, 'fpkm_table_normalized.csv')\n",
    "fpkm <- data.frame(read.csv(fpkm_table, header=TRUE))\n",
    "unlink(temp)\n",
    "\n",
    "# stop timer, calculate running time\n",
    "stop <- Sys.time()\n",
    "duration <- stop-start\n",
    "print(paste('Time:', round(duration, 2),'minutes'))"
   ]
  },
  {
   "cell_type": "markdown",
   "metadata": {},
   "source": [
    "For consistency with the other count matrices we've been working with, we'll change the row names to be the Entrez database ID numbers. We also want to get a list of the dementia statuses of our samples and lists of sample names."
   ]
  },
  {
   "cell_type": "code",
   "execution_count": 8,
   "metadata": {},
   "outputs": [],
   "source": [
    "# merge FPKM matrix with gene list on gene_id\n",
    "colnames(fpkm)[1] <- 'gene_id'\n",
    "merged <- merge(fpkm, genes, by='gene_id', all=TRUE)\n",
    "\n",
    "# change row names to gene_entrez_id\n",
    "rownames(merged) <- merged$gene_entrez_id\n",
    "merged$gene_entrez_id <- NULL\n",
    "\n",
    "# removed old id column\n",
    "merged$gene_id <- NULL\n",
    "\n",
    "# remove gene list columns\n",
    "merged <- merged[,!(names(merged) %in% c('chromosome', 'gene_symbol', 'gene_name'))]\n",
    "\n",
    "# remove X from column/sample names\n",
    "colnames(merged) <- substring(colnames(merged), 2)\n",
    "\n",
    "# Get donor info table with donor_id and act_demented\n",
    "donor_files <- data.frame(fread('http://aging.brain-map.org/api/v2/data/query.csv?criteria=model::ApiTbiDonorDetail,rma::options[num_rows$eqall]'))\n",
    "\n",
    "# Get table with rnaseq_profile_id (column names in count matrix) & donor_id\n",
    "data_files <- data.frame(fread('http://aging.brain-map.org/data/tbi_data_files.csv'))\n",
    "\n",
    "# merge on donor_id\n",
    "sample_info <- merge(data_files, donor_files, by = 'donor_id', all = TRUE)\n",
    "\n",
    "# subset to just rnaseq_profile_id and act_demented\n",
    "sample_dementia_status <-  sample_info[, c('rnaseq_profile_id', 'act_demented')]\n",
    "\n",
    "# get all the sample names\n",
    "all_samples <- colnames(merged)\n",
    "\n",
    "# get sample names for each brain region group\n",
    "hip_samples <- colnames(hip_norm$counts)\n",
    "fwm_samples <- colnames(fwm_norm$counts)\n",
    "pcx_samples <- colnames(pcx_norm$counts)\n",
    "tcx_samples <- colnames(tcx_norm$counts)"
   ]
  },
  {
   "cell_type": "markdown",
   "metadata": {},
   "source": [
    "##### A function for making heatmaps\n",
    "The following function does several things. It randomly chooses a user-given number of samples (`num_samples`) from both Dementia and No Dementia groups. It then subsets the FPKM matrix to consist of these random samples as well as the genes given in `gene_list` and standardizes the values across rows. The `gplots::heatmap.2()` function performs heirarchical clustering on the genes and samples (using complete linkage) as well as makes a heatmap of the expression levels."
   ]
  },
  {
   "cell_type": "code",
   "execution_count": 9,
   "metadata": {},
   "outputs": [],
   "source": [
    "# Heatmap function\n",
    "DEG_heatmap <- function(sample_list, gene_list, RNGseed, num_samples, ...){\n",
    "    # subset dementia status list\n",
    "    x_dementia_status <- sample_dementia_status[sample_dementia_status$rnaseq_profile_id %in% sample_list, ]\n",
    "    # dplyr library \"sample_n\" function to choose random samples from each of the\n",
    "    # dementia status groups (dementia/no dementia)\n",
    "    set.seed(RNGseed)\n",
    "    x_subsample <- x_dementia_status %>% group_by(act_demented) %>% sample_n(num_samples)\n",
    "    # subset FPKM matrix by sig genes and \n",
    "    x_fpkm <- merged[gene_list, colnames(merged) %in% x_subsample$rnaseq_profile_id]\n",
    "    # convert to numeric matrix\n",
    "    x_fpkm <- as.matrix(x_fpkm)\n",
    "    class(x_fpkm) <- 'numeric'\n",
    "    # standardize\n",
    "    x_fpkm <- t(scale(t(x_fpkm)))\n",
    "    # heatmap\n",
    "    heatmap.2(x_fpkm,\n",
    "              col=bluered(20),\n",
    "              na.rm=TRUE, \n",
    "              trace = 'none', \n",
    "              dendrogram = 'both', \n",
    "              key = TRUE, \n",
    "              key.title = 'Key',\n",
    "              cexRow = 0.7,\n",
    "              cexCol = 0.6,\n",
    "              margins = c(6,5),\n",
    "              xlab='samples',\n",
    "              ylab='genes')\n",
    "}"
   ]
  },
  {
   "cell_type": "markdown",
   "metadata": {},
   "source": [
    "In this case, we expect the columns to cluster according to dementia status if we choose a set of genes that are differentially expressed between Dementia and No Dementia samples.  \n",
    "\n",
    "Let's look at just the 29 differentially-expressed genes we found in all four brain regions but restrict our analysis to only forebrain white matter samples. We'll tell the `DEG_heatmap()` function we just made to randomly choose 25 forebrain white matter samples from each of the Dementia and No Dementia groups. 555 here is the seed for the random number generator."
   ]
  },
  {
   "cell_type": "code",
   "execution_count": 10,
   "metadata": {},
   "outputs": [
    {
     "data": {
      "image/png": "[encoded data removed]",
      "text/plain": [
       "Plot with title \"Key\""
      ]
     },
     "metadata": {},
     "output_type": "display_data"
    }
   ],
   "source": [
    "DEG_heatmap(fwm_samples, intersection_genes, 555, 25)"
   ]
  },
  {
   "cell_type": "markdown",
   "metadata": {},
   "source": [
    "The samples roughly cluster into two groups, presumably according to dementia status. There are two major types of expression patterns/gene clusters present as well.  \n",
    "\n",
    "We know that these 29 genes are all differentially expressed in the four brain regions but do they exhibit the same pattern? That is: If gene X is upregulated in one brain region, is it upregulated in all the others, or upregulated in some and downregulated in others? We can use the heatmap to quickly get an idea if this might be the case. Let's look at the same genes but randomly choose samples from any of the four brain regions. "
   ]
  },
  {
   "cell_type": "code",
   "execution_count": 11,
   "metadata": {},
   "outputs": [
    {
     "data": {
      "image/png": "[encoded data removed]",
      "text/plain": [
       "Plot with title \"Key\""
      ]
     },
     "metadata": {},
     "output_type": "display_data"
    }
   ],
   "source": [
    "DEG_heatmap(all_samples, intersection_genes, 555, 20)"
   ]
  },
  {
   "cell_type": "markdown",
   "metadata": {},
   "source": [
    "The pattern looks similar but, to be sure, we'll check directly. Here, we re-run the hypothesis tests on just the 29 intersection genes and use `decideTestsDGE()` to classify the results as either up- or downregulated based on two things:  \n",
    "\n",
    "1. The adjusted p-values for the tests (all of these will be significant at the $\\alpha = 0.05$ significance level), and;  \n",
    "2. The $log_2$ fold change in expression level versus control.  \n",
    "\n",
    "We'll grab the names of the genes and use the `ggplot2` library to visualize the results."
   ]
  },
  {
   "cell_type": "code",
   "execution_count": 12,
   "metadata": {},
   "outputs": [
    {
     "data": {},
     "metadata": {},
     "output_type": "display_data"
    },
    {
     "data": {
      "image/png": "[encoded data removed]",
      "text/plain": [
       "plot without title"
      ]
     },
     "metadata": {},
     "output_type": "display_data"
    }
   ],
   "source": [
    "# function runs exact tests on the normalized counts for subsets of genes/samples & classifies them as upregulated \n",
    "# or downregulated in dementia samples\n",
    "compare_gene_subset <- function(x_norm, gene_list, ...){\n",
    "    x_exact_tests <- exactTest(x_norm[rownames(x_norm) %in% gene_list, ],\n",
    "                               pair = c('No Dementia', 'Dementia'),\n",
    "                               dispersion = 'auto')\n",
    "    x_exact_test_classifications <- decideTestsDGE(x_exact_tests, p.value = 0.05)\n",
    "    return(x_exact_test_classifications)\n",
    "}\n",
    "\n",
    "hip_classifications <- compare_gene_subset(hip_norm, intersection_genes)\n",
    "fwm_classifications <- compare_gene_subset(fwm_norm, intersection_genes)\n",
    "pcx_classifications <- compare_gene_subset(pcx_norm, intersection_genes)\n",
    "tcx_classifications <- compare_gene_subset(tcx_norm, intersection_genes)\n",
    "\n",
    "# recursive merge on gene ID to construct results dataframe\n",
    "hip_fwm <- merge(as.data.frame(hip_classifications), as.data.frame(fwm_classifications), by='row.names', all=TRUE)\n",
    "rownames(hip_fwm) <- hip_fwm$Row.names\n",
    "hip_fwm$Row.names <- NULL\n",
    "colnames(hip_fwm) <- c('HIP','FWM')\n",
    "\n",
    "hip_fwm_pcx <- merge(hip_fwm, as.data.frame(pcx_classifications), by='row.names', all=TRUE)\n",
    "rownames(hip_fwm_pcx) <- hip_fwm_pcx$Row.names\n",
    "hip_fwm_pcx$Row.names <- NULL\n",
    "colnames(hip_fwm_pcx) <- c('HIP','FWM','PCx')\n",
    "\n",
    "all_regions <- merge(hip_fwm_pcx, as.data.frame(tcx_classifications), by='row.names', all=TRUE)\n",
    "rownames(all_regions) <- all_regions$Row.names\n",
    "all_regions$Row.names <- NULL\n",
    "colnames(all_regions) <- c('HIP','FWM','PCx','TCx')\n",
    "\n",
    "# make row names a column called gene_entrez_id\n",
    "all_regions$gene_entrez_id <- rownames(all_regions)\n",
    "rownames(all_regions) <- NULL\n",
    "\n",
    "# Merge with gene info on gene_entrez_id\n",
    "merged_results <- merge(genes, all_regions, by='gene_entrez_id', all=FALSE)\n",
    "\n",
    "# subset merged_results to just gene_name + results for the 4 brain regions\n",
    "class_results <- merged_results[ , c('gene_name','HIP','FWM','PCx','TCx')]\n",
    "\n",
    "# replace 1s with 'Up' and -1s with 'Down'\n",
    "class_results <- replace(class_results, class_results == 1, 'Up')\n",
    "class_results <- replace(class_results, class_results == -1, 'Down')\n",
    "\n",
    "# use melt() from the reshape2 library to reshape the dataframe\n",
    "melted_class_results <- melt(class_results, id.vars='gene_name')\n",
    "\n",
    "# use ggplot2 to visualize the classification results\n",
    "ggplot(data = melted_class_results, aes(x = variable, y = gene_name)) + \n",
    "  geom_tile(aes(fill = value), color = 'lightgray', show.legend = TRUE) + \n",
    "  labs(x = 'brain regions', y = 'genes', fill = 'expression') + \n",
    "  scale_fill_manual(values = c('blue', 'red'))"
   ]
  },
  {
   "cell_type": "markdown",
   "metadata": {},
   "source": [
    "We can clearly see that the directions of differential expression in dementia for these genes are the same across the four brain regions.  \n",
    "\n",
    "### Conclusions & next steps\n",
    "Here, we took a look at some of the ways a gene expression level dataset can be explored using differential expression analysis. The intersection genes we examined as an example might be useful as indicators of changes in \"brain-wide\" processes occuring with dementia. Several of them have already been found to be associated with Alzheimer's or other forms of dementia. You'll find links to their Gene database entries and some summary information about them in [this Google Sheet](https://docs.google.com/spreadsheets/d/1MEMTRDbWPT3hKXPOYBP1IU5oRj9tIMwSea_7h2dlQmo/edit?usp=sharing).  \n",
    "\n",
    "The next step is to develop features that we can use in subsequent models of dementia status. We'll need to balance the desire to use as much of the information from the tissue samples as we can with the need to eliminate variables that would only contribute noise. The differential expression analysis gives us a way of reducing the size of the pool of potential gene expression features to include only those most likely to co-vary with dementia risk. To this end, we can reasonably use either a combined list from a differential analysis on subgroups (like the brain region groups used here) or a single list produced from an analysis of all the samples together as ways of reducing the size of the dataset. It should be noted that the amount of the reduction (or the number of genes we determine to be differentially-expressed) will depend on the filter settings we use prior to running the hypothesis tests (see the discussion of filtering in [this previous post](http://blog.vislaywade.com/EDA-gene-expression-data-part-1-multidimensional-scaling/)) and the adjusted p-value cutoff we choose.  \n",
    "\n",
    "This method achieves the goal of modest reduction in dataset size while preserving those features most relevent to predicting dementia risk; combining the lists of significant genes for the four brain regions that we generated here reduces the gene expression data set to 7180 genes. In the next step, we'll look at ways to combine these features into meaningful groups using unsupervised learning methods."
   ]
  }
 ],
 "metadata": {
  "kernelspec": {
   "display_name": "R",
   "language": "R",
   "name": "ir"
  },
  "language_info": {
   "codemirror_mode": "r",
   "file_extension": ".r",
   "mimetype": "text/x-r-source",
   "name": "R",
   "pygments_lexer": "r",
   "version": "3.4.1"
  }
 },
 "nbformat": 4,
 "nbformat_minor": 2
}
