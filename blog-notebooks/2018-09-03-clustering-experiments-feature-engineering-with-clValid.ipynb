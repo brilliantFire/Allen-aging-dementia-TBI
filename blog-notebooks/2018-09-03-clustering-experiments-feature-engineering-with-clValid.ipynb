{
 "cells": [
  {
   "cell_type": "markdown",
   "metadata": {},
   "source": [
    "---\n",
    "layout: post \n",
    "comments: true \n",
    "tags: dementia feature-engineering clustering R-stats RNA-seq\n",
    "title: Clustering Optimization with the `clValid` Package for R\n",
    "---"
   ]
  },
  {
   "cell_type": "code",
   "execution_count": 2,
   "metadata": {},
   "outputs": [],
   "source": [
    "setwd('..')"
   ]
  },
  {
   "cell_type": "markdown",
   "metadata": {},
   "source": [
    "Back again! I'm taking a break from thesis writing to share some of the awesome tools I've discovered over the course of completing this project.  \n",
    "\n",
    "In the [last post](http://blog.vislaywade.com/EDA-gene-expression-data-part-3-results-visualizations/), we discussed some of the results I got using differential expression analysis to identify genes differentially expressed (DE) in dementia from the RNA-seq data from the Allen Institute for Brain Science's [Aging, Dementia, and TBI Study](http://aging.brain-map.org/) dataset. We identified four sets of DE genes from tissue samples from four different regions of the brain: hippocampus (HIP), forebrain white matter (FWM), parietal cortex (PCx), and temporal cortex (TCx). In the process, we significantly reduced the size of the gene expression level portion of the dataset. However, there are still 100s or 1000s of genes in each group, each of which could be considered a potential feature (or predictor) in a model of dementia risk in patients. How can we combine this data to generate a smaller set of features to use in models of dementia risk in patients?  \n",
    "\n",
    "There are several different methods for clustering data in a meaningful way. There are also several different metrics that can be used to decide on the method and parameter settings that work best on the data we have. Here, I'll introduce the [`clValid` package](https://www.jstatsoft.org/article/view/v025i04) for R$^1$. This package lets us try several different algorithms and computes a variety of metrics to compare them on, including some based on gene function.  \n",
    "\n",
    "#### On tap for this post:  \n",
    "1. *Clustering Methods & Validation Metrics* - Brief descriptions;  \n",
    "2. *Install Packages* - We'll install `clValid` and its dependent packages from [CRAN](https://cran.r-project.org/) and several other packages from [Bioconductor](https://bioconductor.org/) for gene annotation;  \n",
    "3. *Load Data* - Load & subset a matrix of gene expression counts;  \n",
    "4. *Generate Functional Annotation Lists* - We'll use the `mygene` package to access open-source gene annotation information from a maintained database ([*MyGene.info*](http://mygene.info/));  \n",
    "5. *A Simple Clustering Optimization Experiment* - A short-and-sweet example of using `clValid`.  \n",
    "\n",
    "Let's get started!"
   ]
  },
  {
   "cell_type": "markdown",
   "metadata": {},
   "source": [
    "### Clustering Methods & Validation Metrics  \n",
    "#### Clustering Algorithms Available in `clValid`\n",
    "The `clValid` method allows for the evaluation of up to seven different clustering algorithms at one time:  \n",
    "1. *Agglomerative Hierarchical Clustering* - One of - if not *the* - most commonly used clustering algorithms. In hierarchical clustering, all of the observations (or genes, in our case) start out in their own clusters and then are merged according to some measure of similarity (or dissimilarity).  \n",
    "2. *K-means* - Another common clustering method, K-means works iteratively to divide the data into a pre-specified number of $k$ clusters by minimizing the within-cluster sum of squares. K-means only works with Euclidean distances (as opposed to Pearson correlation distances, for example).  \n",
    "3. *DIANA* - DIANA stands for *DI*visive *ANA*lysis. It's the opposite of agglomerative clustering in that, instead of each gene starting in its own cluster, all the genes start in one big cluster. The algorithm then divides that cluster up until each observation is in its own cluster.  \n",
    "4. *PAM* - AKA \"Partitioning Around Medoids\". PAM, like K-means, starts with a pre-specified number of $k$ clusters. Unlike K-means, PAM can accommodate distances other than Euclidean.  \n",
    "5. *FANNY* - (Noticing a pattern here :)) FANNY is an algorithm for fuzzy clustering where the result is not a single cluster assignment for each observation but instead a vector for each observation containing the partial membership it has in each cluster. Cluster assignments can be collapsed to a single cluster by choosing the one where the observation's partial membership is highest.  \n",
    "6. *SOM* - This \"Self-Organizing Map\" algorithm utilizes artifical neural networks to produce a lower-dimensional representation of high-dimensional data. Much like the multidimensional scaling experiments discussed in earlier posts ([here](http://blog.vislaywade.com/EDA-gene-expression-data-part-1-multidimensional-scaling/) and interactive plots [here](http://blog.vislaywade.com/interactive-MDS-plots-w-plotly/)), SOMs are terrific for visualizing complex, high-dimensional data.  \n",
    "7. *Mixture Model-based clustering* - In this method, the data is modeled as a mixture of Gaussian distributions where each distribution (or, *component*) represents a cluster. Expectation-maximization is used to determine the observations most likely to belong to each component.  \n",
    "\n",
    "#### Validation Metrics\n",
    "`clValid` provides three different types of validation metrics:  \n",
    "\n",
    "**Internal Metrics**  \n",
    "Internal metrics measure attributes of the clusters themselves. These are things like how well the clusters are separated from each other, or how compact they are. `clValid` can generate values for three such metrics:  \n",
    "* *Connectivity* - This measures how well the algorithm places observations that are close to each other in the original data space in the same cluster$^2$. Connectivity values can range from 0 to $\\infty$ with smaller values representing \"better\" clustering.    \n",
    "* *Silhouette Width* - The silhouette value is a common metric for evaluating clustering experiments. It measures the confidence we have in the assignment of a given observation to a particular cluster$^3$. The \"width\" is the average of these values. Like the silhouette value itself, the silhouette width can range from -1 to +1 with values closer to +1 indicating better cluster assignments.  \n",
    "* *Dunn Index* - The Dunn Index is a ratio of the shortest distance between observations *not* in the same cluster to the greatest distance *between* clusters$^4$. Ideally, observations not in the same cluster would be far from one another so higher Dunn indices are better.  \n",
    "\n",
    "**Stability Metrics**  \n",
    "`clValid` can compute several metrics using something like \"leave-one-out\" cross-validation, where each sample is systematically excluded from the clustering experiment and the results compared with clustering on the full dataset$^3$. Essentially, these metrics measure how well clustering results hold up when individual samples (or columns) are removed. As you might imagine, calculating these metrics can be computationally intensive if there are many samples. Nonetheless, they could be important indicators of how well a clustering strategy might handle new data. Four stability metrics are generated by `clValid`:  \n",
    "* *Average Proportion of Non-Overlap (APN)* - This is the average proportion of observations that end up in different clusters when samples are removed when compared to the clusters they're in when all the samples are used. Obviously, we want this number to be small. The APN can range from 0 to 1.  \n",
    "* *Average Distance (AD)* - Similar to APN, AD is the average within-cluster distance between observations when clustered using the full dataset and with each column removed. It's similar to connectivity in that it ranges from 0 to $\\infty$ and values close to zero are considered better.  \n",
    "* *Average Distance between Means (ADM)* - ADM looks at the average distance that observations have between themselves and the mean value (or the \"center\") of the cluster they're assigned to, and how that changes when one sample is left out. Again, ADM values closer to zero are indicators of greater stability.  \n",
    "* *Figure of Merit (FOM)* - In computing this metric, `clValid` measures the average error in assigning observations from the left out sample to clusters based on the remaining samples. We also want this to be close to zero. \n",
    "\n",
    "It's worth noting that these metrics are more easily interpretable when clustering is based on Euclidean distances versus Manhattan or Pearson correlation distances. ADM and FOM are only available for Euclidean distances.  \n",
    "\n",
    "**Biological Metrics**  \n",
    "One of the coolest things about `clValid` is its capacity to generate measures of how well a clustering algorithm produces results that make sense *biologically*. Calculating these metrics for the gene expression data we're working with here requires us to pre-classify the genes according to one or more *gene ontologies* in process called *functional annotation*. Essentially, we tag the genes in our dataset with labels that tell us what biological processes they're involved in, or where their products are found in the cell, so that, when we cluster them, we can see how well genes involved in the same things or found in the same places cluster together. There are two metrics we can use to evaluate this $^3$:  \n",
    "* *Biological Homogeneity Index (BHI)* - The BHI measures how many genes in each cluster belong to the same functional category. It ranges from 0 to 1 and larger values are indicitive of more functionally homogeneous clusters.  \n",
    "* *Biological Stability Index (BSI)* - Like the other stability metrics, the BSI is calculated using a \"leave-one-out\" strategy. The cluster assignments for genes in similar functional classes when one sample is left out are compared to those generated using all the samples. As with the BHI, BSI ranges from 0 to 1 and larger values indicate greater stability.  \n",
    "\n",
    "We'll discuss functional annotation in greater detail below when we actually do it!"
   ]
  },
  {
   "cell_type": "markdown",
   "metadata": {},
   "source": [
    "### Install Packages  \n",
    "Here, we'll install `clValid` (and it's dependencies) from CRAN (The Comprehensive R Archive Network) and some annotation packages from Bioconductor. The biological validation functions of `clValid` require the `Biobase`, `annotate`, and `GO.db` packages from Bioconductor and we'll use `mygene` to annotate the lists of genes that differentially-expressed in tissue samples from dementia sufferers.  \n",
    "\n",
    "**IMPORTANT NOTE:** If you're trying this at home, be sure to only run this next code block once!  "
   ]
  },
  {
   "cell_type": "code",
   "execution_count": null,
   "metadata": {},
   "outputs": [],
   "source": [
    "# install clValid and dependencies from CRAN\n",
    "install.packages(c('cluster', 'kohonen', 'mclust', 'clValid'), repo='https://CRAN.R-project.org/')\n",
    "\n",
    "# get the biocLite() installer from Bioconductor\n",
    "source('https://bioconductor.org/biocLite.R')\n",
    "biocLite()\n",
    "\n",
    "# \n",
    "biocLite(c('Biobase', 'annotate', 'GO.db', 'mygene'))"
   ]
  },
  {
   "cell_type": "markdown",
   "metadata": {},
   "source": [
    "Now, we go ahead and load the libraries. I'm explicitly loading the two `clValid` dependencies we'll use in this example, `cluster` and `mclust`, that contain the functions for the actual clustering algorithms. In this example, we won't be using SOM so I've left off the `kohonen` package. It throws a lot of warnings at me because I have an older version of R installed (I blame Anaconda :P ). I'm including them here because there's other information in the warnings about other dependencies that is good to know (also to show that it still works despite the warnings)."
   ]
  },
  {
   "cell_type": "code",
   "execution_count": 4,
   "metadata": {},
   "outputs": [
    {
     "name": "stderr",
     "output_type": "stream",
     "text": [
      "Warning message:\n",
      "\"package 'clValid' was built under R version 3.4.4\"Loading required package: cluster\n",
      "Warning message:\n",
      "\"package 'cluster' was built under R version 3.4.4\"Warning message:\n",
      "\"package 'mclust' was built under R version 3.4.4\"Package 'mclust' version 5.4.1\n",
      "Type 'citation(\"mclust\")' for citing this R package in publications.\n",
      "Warning message:\n",
      "\"package 'Biobase' was built under R version 3.4.2\"Loading required package: BiocGenerics\n",
      "Warning message:\n",
      "\"package 'BiocGenerics' was built under R version 3.4.2\"Loading required package: parallel\n",
      "\n",
      "Attaching package: 'BiocGenerics'\n",
      "\n",
      "The following objects are masked from 'package:parallel':\n",
      "\n",
      "    clusterApply, clusterApplyLB, clusterCall, clusterEvalQ,\n",
      "    clusterExport, clusterMap, parApply, parCapply, parLapply,\n",
      "    parLapplyLB, parRapply, parSapply, parSapplyLB\n",
      "\n",
      "The following objects are masked from 'package:stats':\n",
      "\n",
      "    IQR, mad, sd, var, xtabs\n",
      "\n",
      "The following objects are masked from 'package:base':\n",
      "\n",
      "    anyDuplicated, append, as.data.frame, cbind, colMeans, colnames,\n",
      "    colSums, do.call, duplicated, eval, evalq, Filter, Find, get, grep,\n",
      "    grepl, intersect, is.unsorted, lapply, lengths, Map, mapply, match,\n",
      "    mget, order, paste, pmax, pmax.int, pmin, pmin.int, Position, rank,\n",
      "    rbind, Reduce, rowMeans, rownames, rowSums, sapply, setdiff, sort,\n",
      "    table, tapply, union, unique, unsplit, which, which.max, which.min\n",
      "\n",
      "Welcome to Bioconductor\n",
      "\n",
      "    Vignettes contain introductory material; view with\n",
      "    'browseVignettes()'. To cite Bioconductor, see\n",
      "    'citation(\"Biobase\")', and for packages 'citation(\"pkgname\")'.\n",
      "\n",
      "Warning message:\n",
      "\"package 'annotate' was built under R version 3.4.4\"Loading required package: AnnotationDbi\n",
      "Warning message:\n",
      "\"package 'AnnotationDbi' was built under R version 3.4.2\"Loading required package: stats4\n",
      "Loading required package: IRanges\n",
      "Warning message:\n",
      "\"package 'IRanges' was built under R version 3.4.2\"Loading required package: S4Vectors\n",
      "Warning message:\n",
      "\"package 'S4Vectors' was built under R version 3.4.2\"\n",
      "Attaching package: 'S4Vectors'\n",
      "\n",
      "The following object is masked from 'package:base':\n",
      "\n",
      "    expand.grid\n",
      "\n",
      "Loading required package: XML\n",
      "Warning message:\n",
      "\"package 'XML' was built under R version 3.4.4\"\n",
      "Warning message:\n",
      "\"package 'mygene' was built under R version 3.4.2\"Loading required package: GenomicFeatures\n",
      "Warning message:\n",
      "\"package 'GenomicFeatures' was built under R version 3.4.3\"Loading required package: GenomeInfoDb\n",
      "Warning message:\n",
      "\"package 'GenomeInfoDb' was built under R version 3.4.2\"Loading required package: GenomicRanges\n",
      "Warning message:\n",
      "\"package 'GenomicRanges' was built under R version 3.4.4\""
     ]
    }
   ],
   "source": [
    "# load libraries\n",
    "library(clValid)\n",
    "library(cluster)\n",
    "library(mclust)\n",
    "library(Biobase)\n",
    "library(annotate)\n",
    "library(GO.db)\n",
    "library(mygene)"
   ]
  },
  {
   "cell_type": "markdown",
   "metadata": {},
   "source": [
    "### Load Data  \n",
    "The next code block loads three files from a directory called `data`. \n",
    "\n",
    "**A Quick Aside:** A Jupyter notebook version of this post is available in [the project repository](https://github.com/brilliantFire/Allen-aging-dementia-TBI) on GitHub. If you clone the repository, you'll get the `data` folder as well as the notebook, which is located in `blog-notebooks`. You can run the notebook from within the cloned repo and everything should work (open source and reproducability, hooray!).  \n",
    "\n",
    "Anyways, the three files we're loading here are:  \n",
    "1. A normalized matrix of FPKM values from the Allen Institute for Brain Science's *Aging, Dementia, and TBI Study*. It's a 50,283 x 377 gene-by-sample matrix of normalized gene expression counts.  \n",
    "2. A dataframe containing information about the brain tissue samples the gene expression data came from; for example, which region of the brain they were taken from. Today, we're only going to be working with data from hippocampal samples.  \n",
    "3. Lists of the \"differentially expressed in dementia\" genes for each of the brain regions in the dataset (including the hippocampus).  \n",
    "\n",
    "After we load the data, we'll convert the FPKM table to a numeric matrix and standardize it along rows (or, along *genes*) so that each gene's distribution has mean 0 and standard deviation 1 (AKA standard normal)."
   ]
  },
  {
   "cell_type": "code",
   "execution_count": 5,
   "metadata": {},
   "outputs": [],
   "source": [
    "# load data\n",
    "fpkm_table <- readRDS(file='data/normalized_fpkm_matrix.Rds')\n",
    "sample_info <- readRDS(file='data/sample_info.Rds')\n",
    "brain_reg_sig_genes <- readRDS(file='data/brain_reg_sig_genes.Rds')\n",
    "\n",
    "# make a numeric matrix\n",
    "fpkm_mat <- as.matrix(fpkm_table)\n",
    "class(fpkm_mat) <- 'numeric'\n",
    "\n",
    "# standardize\n",
    "fpkm_standard_mat <- t(scale(t(fpkm_mat)))"
   ]
  },
  {
   "cell_type": "markdown",
   "metadata": {},
   "source": [
    "Now, we grab just the hippocampal DE genes and use the sample info to identify which samples - each of which is labeled with a unique `rnaseq_profile_id` - came from the hippocampus. Finally, we'll subset our matrix of standardized FPKM values so that it only includes hippocampal DE genes and samples."
   ]
  },
  {
   "cell_type": "code",
   "execution_count": 6,
   "metadata": {},
   "outputs": [],
   "source": [
    "# HIP FPKM subset\n",
    "hip_genes <- brain_reg_sig_genes$hip_genes\n",
    "hip_samples <- sample_info$rnaseq_profile_id[which(sample_info$structure_acronym == 'HIP')]\n",
    "hip_data <- fpkm_standard_mat[hip_genes, colnames(fpkm_standard_mat) %in% hip_samples]"
   ]
  },
  {
   "cell_type": "markdown",
   "metadata": {},
   "source": [
    "### Generate Functional Annotation Lists using `mygene`  \n",
    "At this point, we have a bunch of genes (277 to be exact) from hippocampal samples in the variable `hip_data` that we'd like to cluster in a meaningful way. How can we classify these genes according to their biological function so we can tell if our clustering results make sense with what we know they do?  \n",
    "\n",
    "Enter the `mygene` package! `mygene` is an [R package](https://github.com/biothings/mygene.R) that allows us to access a maintained database of gene ontology information. What's a gene ontology (GO)? In short, it's the gene's function or location; what it does, where it's product is, or what biological processes it participates in. According to the [Gene Ontology Consortium](http://www.geneontology.org/), an organization dedicated to making sure we're all on the same page in terms of information about genes, it's \"the concepts or classes used to describe gene function, and relationships between these concepts.\" The Consortium's GO Project maintains a centralized resource of information about genes. One of the ways we can use this resource is via [mygene.info](https://mygene.info/), which stores GO information in an easily searchable \"NoSQL\" database (ElasticSearch). We can access this database via the functions in the `mygene` package for R (there's also [a Python version](https://pypi.org/project/mygene/)).  \n",
    "\n",
    "The rows of our matrix are labeled with unique [Entrez Gene](https://www.ncbi.nlm.nih.gov/gene) database identification numbers. Using the `queryMany()` function from `mygene`, we can look up these numbers in mygene.info's database and get GO information about each gene in our matrix. We'll get the gene symbols, too, in case we need them."
   ]
  },
  {
   "cell_type": "code",
   "execution_count": 7,
   "metadata": {},
   "outputs": [
    {
     "name": "stdout",
     "output_type": "stream",
     "text": [
      "Finished\n"
     ]
    }
   ],
   "source": [
    "# gene ontology info + symbols for Entrez IDs\n",
    "hip_res <- queryMany(rownames(hip_data), scopes='entrezgene', fields=c('go', 'symbol'), species='human')"
   ]
  },
  {
   "cell_type": "markdown",
   "metadata": {},
   "source": [
    "Let's take a look at the first ten entries:"
   ]
  },
  {
   "cell_type": "code",
   "execution_count": 8,
   "metadata": {},
   "outputs": [
    {
     "data": {
      "text/plain": [
       "DataFrame with 10 rows and 7 columns\n",
       "         query         _id   X_score       symbol           go.BP\n",
       "   <character> <character> <numeric>  <character>          <list>\n",
       "1        25937       25937  21.99937        WWTR1 IEA,IEA,IEA,...\n",
       "2    105378049   105378049  21.99937     TAB2-AS1                \n",
       "3    101929800   101929800  21.99992 LOC101929800                \n",
       "4        57722       57722  21.99866       IGDCC4                \n",
       "5       221150      221150  22.00006         SKA3 IBA,IMP,IBA,...\n",
       "6         7273        7273  22.00006          TTN TAS,IMP,NAS,...\n",
       "7         6869        6869  21.99901        TACR1 IEA,IEA,IEA,...\n",
       "8         9495        9495  21.99937        AKAP5 IEA,NAS,IMP,...\n",
       "9         2006        2006  21.99901          ELN  IMP,IC,TAS,...\n",
       "10       25959       25959  21.99909        KANK2 IBA,IDA,IEA,...\n",
       "             go.CC                 go.MF\n",
       "            <list>                <list>\n",
       "1  IDA,NAS,IDA,...          MF,MF,MF,...\n",
       "2                                       \n",
       "3                                       \n",
       "4   IEA,IEA,CC,...                      \n",
       "5  IDA,IBA,IDA,... MF,IPI,GO:0005515,...\n",
       "6  IDA,TAS,TAS,...          MF,MF,MF,...\n",
       "7  IEA,IDA,TAS,...          MF,MF,MF,...\n",
       "8  TAS,IBA,TAS,...          MF,MF,MF,...\n",
       "9  TAS,TAS,HDA,...          MF,MF,MF,...\n",
       "10 IBA,IDA,IDA,... MF,IPI,GO:0005515,..."
      ]
     },
     "metadata": {},
     "output_type": "display_data"
    }
   ],
   "source": [
    "# take a look at the first few entries\n",
    "head(hip_res, 10)"
   ]
  },
  {
   "cell_type": "markdown",
   "metadata": {},
   "source": [
    "`queryMany()` returns a dataframe in R by default (though you can override this using the `return.as` argument to generate a list or text). If you're familiar with Python, this object is a lot like a series of nested dictionaries. The GO information is contained in three \"lists of lists\" inside the dataframe, each corresponding to one of the three gene ontologies recognized by the Consortium:  \n",
    "1. *Cellular Component (CC)* - Generally, where the product of the gene is in a cell. Examples might be \"nucleus\" or \"mitotic spindle\". In the dataframe above, this is in the `go.CC` list. \n",
    "2. *Molecular Function (MF)* - This is what the gene product does, like \"RNA binding\" or \"protein kinase\". It's in `go.MF`.  \n",
    "3. *Biological Process (BP)* - The Consortium defines this as \"pathways and larger processes made up of the activities of multiple gene products\". It would be something like \"estrogen signalling\" or \"protein degradation\". It's in the `go.BP` list from mygene.info.  \n",
    "\n",
    "In the dataframe above, we're also given `query`, which is what we told it to search for (the Entrez Gene IDs). You'll notice is the same as `_id`, the record identifier in the mygene.info database. We also have `symbol` (because we asked for it) and `X_score` which is a measure of how well the search algorithm did. We'll need the Entrez IDs later so we'll just pull them out now (we could just as well get them from the original FPKM matrix row names)."
   ]
  },
  {
   "cell_type": "code",
   "execution_count": 9,
   "metadata": {},
   "outputs": [],
   "source": [
    "# pull out Entrez Gene IDs\n",
    "hip_entrez <- hip_res$query"
   ]
  },
  {
   "cell_type": "markdown",
   "metadata": {},
   "source": [
    "Let's take a peak at the CC GO information for the first gene, Entrez Gene 25937, or WWTR1."
   ]
  },
  {
   "cell_type": "code",
   "execution_count": 10,
   "metadata": {},
   "outputs": [
    {
     "data": {
      "text/html": [
       "<table>\n",
       "<thead><tr><th scope=col>evidence</th><th scope=col>gocategory</th><th scope=col>id</th><th scope=col>pubmed</th><th scope=col>term</th></tr></thead>\n",
       "<tbody>\n",
       "\t<tr><td>IDA                         </td><td>CC                          </td><td>GO:0005634                  </td><td>18568018                    </td><td>nucleus                     </td></tr>\n",
       "\t<tr><td>NAS                         </td><td>CC                          </td><td>GO:0005634                  </td><td>11118213                    </td><td>nucleus                     </td></tr>\n",
       "\t<tr><td>IDA                         </td><td>CC                          </td><td>GO:0005654                  </td><td>      NA                    </td><td>nucleoplasm                 </td></tr>\n",
       "\t<tr><td>TAS                         </td><td>CC                          </td><td>GO:0005654                  </td><td>      NA                    </td><td>nucleoplasm                 </td></tr>\n",
       "\t<tr><td>IEA                         </td><td>CC                          </td><td>GO:0005667                  </td><td>      NA                    </td><td>transcription factor complex</td></tr>\n",
       "\t<tr><td>IDA                         </td><td>CC                          </td><td>GO:0005737                  </td><td>20412773                    </td><td>cytoplasm                   </td></tr>\n",
       "\t<tr><td>IDA                         </td><td>CC                          </td><td>GO:0005829                  </td><td>      NA                    </td><td>cytosol                     </td></tr>\n",
       "\t<tr><td>TAS                         </td><td>CC                          </td><td>GO:0005829                  </td><td>      NA                    </td><td>cytosol                     </td></tr>\n",
       "\t<tr><td>IDA                         </td><td>CC                          </td><td>GO:0016604                  </td><td>      NA                    </td><td>nuclear body                </td></tr>\n",
       "</tbody>\n",
       "</table>\n"
      ],
      "text/latex": [
       "\\begin{tabular}{r|lllll}\n",
       " evidence & gocategory & id & pubmed & term\\\\\n",
       "\\hline\n",
       "\t IDA                          & CC                           & GO:0005634                   & 18568018                     & nucleus                     \\\\\n",
       "\t NAS                          & CC                           & GO:0005634                   & 11118213                     & nucleus                     \\\\\n",
       "\t IDA                          & CC                           & GO:0005654                   &       NA                     & nucleoplasm                 \\\\\n",
       "\t TAS                          & CC                           & GO:0005654                   &       NA                     & nucleoplasm                 \\\\\n",
       "\t IEA                          & CC                           & GO:0005667                   &       NA                     & transcription factor complex\\\\\n",
       "\t IDA                          & CC                           & GO:0005737                   & 20412773                     & cytoplasm                   \\\\\n",
       "\t IDA                          & CC                           & GO:0005829                   &       NA                     & cytosol                     \\\\\n",
       "\t TAS                          & CC                           & GO:0005829                   &       NA                     & cytosol                     \\\\\n",
       "\t IDA                          & CC                           & GO:0016604                   &       NA                     & nuclear body                \\\\\n",
       "\\end{tabular}\n"
      ],
      "text/markdown": [
       "\n",
       "evidence | gocategory | id | pubmed | term | \n",
       "|---|---|---|---|---|---|---|---|---|\n",
       "| IDA                          | CC                           | GO:0005634                   | 18568018                     | nucleus                      | \n",
       "| NAS                          | CC                           | GO:0005634                   | 11118213                     | nucleus                      | \n",
       "| IDA                          | CC                           | GO:0005654                   |       NA                     | nucleoplasm                  | \n",
       "| TAS                          | CC                           | GO:0005654                   |       NA                     | nucleoplasm                  | \n",
       "| IEA                          | CC                           | GO:0005667                   |       NA                     | transcription factor complex | \n",
       "| IDA                          | CC                           | GO:0005737                   | 20412773                     | cytoplasm                    | \n",
       "| IDA                          | CC                           | GO:0005829                   |       NA                     | cytosol                      | \n",
       "| TAS                          | CC                           | GO:0005829                   |       NA                     | cytosol                      | \n",
       "| IDA                          | CC                           | GO:0016604                   |       NA                     | nuclear body                 | \n",
       "\n",
       "\n"
      ],
      "text/plain": [
       "  evidence gocategory id         pubmed   term                        \n",
       "1 IDA      CC         GO:0005634 18568018 nucleus                     \n",
       "2 NAS      CC         GO:0005634 11118213 nucleus                     \n",
       "3 IDA      CC         GO:0005654       NA nucleoplasm                 \n",
       "4 TAS      CC         GO:0005654       NA nucleoplasm                 \n",
       "5 IEA      CC         GO:0005667       NA transcription factor complex\n",
       "6 IDA      CC         GO:0005737 20412773 cytoplasm                   \n",
       "7 IDA      CC         GO:0005829       NA cytosol                     \n",
       "8 TAS      CC         GO:0005829       NA cytosol                     \n",
       "9 IDA      CC         GO:0016604       NA nuclear body                "
      ]
     },
     "metadata": {},
     "output_type": "display_data"
    }
   ],
   "source": [
    "# take a look at a few individual gene ontology records; CC for gene #1 (Entrez Gene #25937, WWTR1)\n",
    "hip_res[1, 'go.CC'][[1]]"
   ]
  },
  {
   "cell_type": "markdown",
   "metadata": {},
   "source": [
    "`term` is what we'll eventually use to annotate our gene list for clustering validation. Some of these terms are associated with `pubmed` numbers linking them to peer-reviewed publications in NCBI's [PubMed](https://www.ncbi.nlm.nih.gov/pubmed) database, which is nice. `evidence` contains [standardized codes](http://www.geneontology.org/page/guide-go-evidence-codes) from the GO Consortium that indicate how the information in `term` came to be determined. \"IDA\", for example, stands for \"Inferred from Direct Assay\", which is pretty strong evidence that what's in term is the truth, while \"IEA\" - Inferred from Electronic Annotation\" - is considered weaker evidence. If we wanted to, we could filter the results to exclude terms with weaker evidence.  \n",
    "\n",
    "To make things simple, we'll extract the most common `term` value for each gene and put it in a list. We'll identify the genes with no terms listed by virtue of the fact that they have length = 0. We'll label their ontology as 'unknown'. We'll create separate lists for all three ontologies then combine them into a single dataframe."
   ]
  },
  {
   "cell_type": "code",
   "execution_count": 19,
   "metadata": {},
   "outputs": [],
   "source": [
    "# initialize lists\n",
    "hip_cc <- NULL\n",
    "hip_mf <- NULL\n",
    "hip_bp <- NULL\n",
    "for(i in 1:length(hip_genes)){\n",
    "    # each if-else checks each 'term' list's length and, if zero, marks as 'unknown'.\n",
    "    # if not zero, returns the most common function\n",
    "    \n",
    "    #### ~*~*~*~*~* Cellular Component *~*~*~*~*~ ####\n",
    "    if(length(hip_res[i, 'go.CC'][[1]]$term) == 0){\n",
    "        a_hip_cc <- 'unknown'\n",
    "    }\n",
    "    else{\n",
    "        a_hip_cc <- tail(names(sort(table(hip_res[i, 'go.CC'][[1]]$term))), 1)\n",
    "    } \n",
    "    hip_cc <- c(hip_cc, a_hip_cc)\n",
    "    \n",
    "    #### ~*~*~*~*~* Molecular Function *~*~*~*~*~ ####\n",
    "    if(length(hip_res[i, 'go.MF'][[1]]$term) == 0){\n",
    "        a_hip_mf <- 'unknown'\n",
    "    }\n",
    "    else{\n",
    "        a_hip_mf <- tail(names(sort(table(hip_res[i, 'go.MF'][[1]]$term))), 1)\n",
    "    } \n",
    "    hip_mf <- c(hip_mf, a_hip_mf)\n",
    "    \n",
    "    #### ~*~*~*~*~* Biological Process *~*~*~*~*~ ####\n",
    "    if(length(hip_res[i, 'go.BP'][[1]]$term) == 0){\n",
    "        a_hip_bp <- 'unknown'\n",
    "    }\n",
    "    else{\n",
    "        a_hip_bp <- tail(names(sort(table(hip_res[i, 'go.BP'][[1]]$term))), 1)\n",
    "    } \n",
    "    hip_bp <- c(hip_bp, a_hip_bp)\n",
    "}\n",
    "\n",
    "# combine into dataframe with Entrez Gene IDs as rownames\n",
    "hip_fc <- data.frame(cbind(hip_cc, hip_mf, hip_bp))\n",
    "rownames(hip_fc) <- hip_entrez\n",
    "colnames(hip_fc) <- c('CC', 'MF', 'BP')"
   ]
  },
  {
   "cell_type": "markdown",
   "metadata": {},
   "source": [
    "Finally, we'll use `tapply()` to create a list of cellular component functional classes and the names of the hippocampal DE genes in them."
   ]
  },
  {
   "cell_type": "code",
   "execution_count": 20,
   "metadata": {},
   "outputs": [],
   "source": [
    "# generate a list of cellular component functional classes & the Entrez IDs in them\n",
    "hip_fc_cc <- tapply(rownames(hip_data), hip_fc$CC, c)"
   ]
  },
  {
   "cell_type": "markdown",
   "metadata": {},
   "source": [
    "Here's what the final CC annotation list looks like."
   ]
  },
  {
   "cell_type": "code",
   "execution_count": 21,
   "metadata": {},
   "outputs": [
    {
     "data": {
      "text/html": [
       "<dl>\n",
       "\t<dt>$`AMPA glutamate receptor complex`</dt>\n",
       "\t\t<dd>'10368'</dd>\n",
       "\t<dt>$`calcineurin complex`</dt>\n",
       "\t\t<dd>'5534'</dd>\n",
       "\t<dt>$`cell surface`</dt>\n",
       "\t\t<dd><ol class=list-inline>\n",
       "\t<li>'84168'</li>\n",
       "\t<li>'3693'</li>\n",
       "\t<li>'3687'</li>\n",
       "</ol>\n",
       "</dd>\n",
       "\t<dt>$centrosome</dt>\n",
       "\t\t<dd>'9639'</dd>\n",
       "\t<dt>$cilium</dt>\n",
       "\t\t<dd>'6608'</dd>\n",
       "\t<dt>$`collagen-containing extracellular matrix`</dt>\n",
       "\t\t<dd>'3371'</dd>\n",
       "</dl>\n"
      ],
      "text/latex": [
       "\\begin{description}\n",
       "\\item[\\$`AMPA glutamate receptor complex`] '10368'\n",
       "\\item[\\$`calcineurin complex`] '5534'\n",
       "\\item[\\$`cell surface`] \\begin{enumerate*}\n",
       "\\item '84168'\n",
       "\\item '3693'\n",
       "\\item '3687'\n",
       "\\end{enumerate*}\n",
       "\n",
       "\\item[\\$centrosome] '9639'\n",
       "\\item[\\$cilium] '6608'\n",
       "\\item[\\$`collagen-containing extracellular matrix`] '3371'\n",
       "\\end{description}\n"
      ],
      "text/markdown": [
       "$`AMPA glutamate receptor complex`\n",
       ":   '10368'\n",
       "$`calcineurin complex`\n",
       ":   '5534'\n",
       "$`cell surface`\n",
       ":   1. '84168'\n",
       "2. '3693'\n",
       "3. '3687'\n",
       "\n",
       "\n",
       "\n",
       "$centrosome\n",
       ":   '9639'\n",
       "$cilium\n",
       ":   '6608'\n",
       "$`collagen-containing extracellular matrix`\n",
       ":   '3371'\n",
       "\n",
       "\n"
      ],
      "text/plain": [
       "$`AMPA glutamate receptor complex`\n",
       "[1] \"10368\"\n",
       "\n",
       "$`calcineurin complex`\n",
       "[1] \"5534\"\n",
       "\n",
       "$`cell surface`\n",
       "[1] \"84168\" \"3693\"  \"3687\" \n",
       "\n",
       "$centrosome\n",
       "[1] \"9639\"\n",
       "\n",
       "$cilium\n",
       "[1] \"6608\"\n",
       "\n",
       "$`collagen-containing extracellular matrix`\n",
       "[1] \"3371\"\n"
      ]
     },
     "metadata": {},
     "output_type": "display_data"
    }
   ],
   "source": [
    "head(hip_fc_cc)"
   ]
  },
  {
   "cell_type": "markdown",
   "metadata": {},
   "source": [
    "### An Example Clustering Optimization Experiment  \n",
    "Now that we have our annotation list, we're ready to try out a few clustering algorithms on the hippocampal gene expression data. We'll try hierarchical clustering, DIANA, and mixture models over a range of $k=[2, 6]$ clusters on a matrix of Euclidean distances. For the hierarchical clustering, we'll use complete linkage. Finally, we'll specify that it produce both internal and biological metrics with the latter based on the cellular component annotation list we constructed above.  \n",
    "\n",
    "To review: We're going to construct 5 versions each of hierarchical, DIANA, and model-based clustering solutions, and compute three internal metrics and two biological ones - one of which is calculated using the \"leave-one-out\" strategy. We have 99 samples and 277 genes. I'm writing this on my laptop which is an old Dell XPS L421X with an Intel i7-3517U CPU. Just for curiosity, we'll time it."
   ]
  },
  {
   "cell_type": "code",
   "execution_count": 24,
   "metadata": {},
   "outputs": [
    {
     "name": "stdout",
     "output_type": "stream",
     "text": [
      "[1] \"Experiment duration: 11.07\"\n"
     ]
    }
   ],
   "source": [
    "start <- Sys.time()\n",
    "hip_valid <- clValid(hip_data, 2:6, \n",
    "                     clMethods = c('hierarchical', 'diana', 'model'), \n",
    "                     validation = c('internal', 'biological'),\n",
    "                     maxitems = length(hip_genes),\n",
    "                     metric = 'euclidean',\n",
    "                     method = 'complete',\n",
    "                     annotation = hip_fc_cc,\n",
    "                     verbose = FALSE)\n",
    "stop <- Sys.time()\n",
    "duration <- stop-start\n",
    "\n",
    "print(paste('Experiment duration:', round(duration, 2)))"
   ]
  },
  {
   "cell_type": "markdown",
   "metadata": {},
   "source": [
    "The experiment took 11 minutes. We can use `summary()` to take a look at the results."
   ]
  },
  {
   "cell_type": "code",
   "execution_count": 25,
   "metadata": {},
   "outputs": [
    {
     "name": "stdout",
     "output_type": "stream",
     "text": [
      "\n",
      "Clustering Methods:\n",
      " hierarchical diana model \n",
      "\n",
      "Cluster sizes:\n",
      " 2 3 4 5 6 \n",
      "\n",
      "Validation Measures:\n",
      "                                 2       3       4       5       6\n",
      "                                                                  \n",
      "hierarchical Connectivity  57.3651 57.3651 91.4349 94.8040 97.3135\n",
      "             Dunn           0.2063  0.2239  0.1990  0.2001  0.2026\n",
      "             Silhouette     0.2411  0.2598  0.1910  0.1689  0.1763\n",
      "             BHI            0.0512  0.0483  0.0496  0.0480  0.2047\n",
      "             BSI            0.1865  0.1387  0.1154  0.0982  0.0942\n",
      "diana        Connectivity  59.3135 87.8397 87.8397 89.3813 92.6948\n",
      "             Dunn           0.1890  0.1687  0.1871  0.2038  0.2052\n",
      "             Silhouette     0.2468  0.2157  0.2198  0.2255  0.2081\n",
      "             BHI            0.0503  0.0480  0.0506  0.2392  0.1996\n",
      "             BSI            0.1683  0.1314  0.1261  0.1257  0.1222\n",
      "model        Connectivity  30.2917 47.2083 38.4940 41.4230 66.8246\n",
      "             Dunn           0.1461  0.1809  0.1826  0.1826  0.2287\n",
      "             Silhouette     0.1063  0.2247  0.2821  0.2554  0.2302\n",
      "             BHI            0.0523  0.0351  0.0378  0.0301  0.0328\n",
      "             BSI            0.2995  0.2402  0.1258  0.1201  0.1055\n",
      "\n",
      "Optimal Scores:\n",
      "\n",
      "             Score   Method Clusters\n",
      "Connectivity 30.2917 model  2       \n",
      "Dunn          0.2287 model  6       \n",
      "Silhouette    0.2821 model  4       \n",
      "BHI           0.2392 diana  5       \n",
      "BSI           0.2995 model  2       \n",
      "\n"
     ]
    }
   ],
   "source": [
    "summary(hip_valid)"
   ]
  },
  {
   "cell_type": "markdown",
   "metadata": {},
   "source": [
    "The optimal scores can be accessed separately as well."
   ]
  },
  {
   "cell_type": "code",
   "execution_count": 26,
   "metadata": {},
   "outputs": [
    {
     "data": {
      "text/html": [
       "<table>\n",
       "<thead><tr><th></th><th scope=col>Score</th><th scope=col>Method</th><th scope=col>Clusters</th></tr></thead>\n",
       "<tbody>\n",
       "\t<tr><th scope=row>Connectivity</th><td>30.2916667</td><td>model     </td><td>2         </td></tr>\n",
       "\t<tr><th scope=row>Dunn</th><td> 0.2286782</td><td>model     </td><td>6         </td></tr>\n",
       "\t<tr><th scope=row>Silhouette</th><td> 0.2821308</td><td>model     </td><td>4         </td></tr>\n",
       "\t<tr><th scope=row>BHI</th><td> 0.2391667</td><td>diana     </td><td>5         </td></tr>\n",
       "\t<tr><th scope=row>BSI</th><td> 0.2995407</td><td>model     </td><td>2         </td></tr>\n",
       "</tbody>\n",
       "</table>\n"
      ],
      "text/latex": [
       "\\begin{tabular}{r|lll}\n",
       "  & Score & Method & Clusters\\\\\n",
       "\\hline\n",
       "\tConnectivity & 30.2916667 & model      & 2         \\\\\n",
       "\tDunn &  0.2286782 & model      & 6         \\\\\n",
       "\tSilhouette &  0.2821308 & model      & 4         \\\\\n",
       "\tBHI &  0.2391667 & diana      & 5         \\\\\n",
       "\tBSI &  0.2995407 & model      & 2         \\\\\n",
       "\\end{tabular}\n"
      ],
      "text/markdown": [
       "\n",
       "| <!--/--> | Score | Method | Clusters | \n",
       "|---|---|---|---|---|\n",
       "| Connectivity | 30.2916667 | model      | 2          | \n",
       "| Dunn |  0.2286782 | model      | 6          | \n",
       "| Silhouette |  0.2821308 | model      | 4          | \n",
       "| BHI |  0.2391667 | diana      | 5          | \n",
       "| BSI |  0.2995407 | model      | 2          | \n",
       "\n",
       "\n"
      ],
      "text/plain": [
       "             Score      Method Clusters\n",
       "Connectivity 30.2916667 model  2       \n",
       "Dunn          0.2286782 model  6       \n",
       "Silhouette    0.2821308 model  4       \n",
       "BHI           0.2391667 diana  5       \n",
       "BSI           0.2995407 model  2       "
      ]
     },
     "metadata": {},
     "output_type": "display_data"
    }
   ],
   "source": [
    "optimalScores(hip_valid)"
   ]
  },
  {
   "cell_type": "markdown",
   "metadata": {},
   "source": [
    "In this experiment, it looks like clustering the genes using a Gaussian mixture model resulted in the best values for 4 out of the 5 metrics calculated, albeit for different numbers of clusters. The exception is the BHI, where the DIANA solution gave the highest value.  \n",
    "\n",
    "We can plot the metrics versus the number of clusters, $k$, for each algorithm. Here's an example using the silhouette width metric."
   ]
  },
  {
   "cell_type": "code",
   "execution_count": 31,
   "metadata": {},
   "outputs": [
    {
     "data": {
      "image/png": "[encoded data removed]",
      "text/plain": [
       "Plot with title \"Internal validation\""
      ]
     },
     "metadata": {},
     "output_type": "display_data",
     "source": "R display func"
    }
   ],
   "source": [
    "plot(hip_valid, measure = 'Silhouette', legendLoc = 'bottomright')"
   ]
  },
  {
   "cell_type": "markdown",
   "metadata": {},
   "source": [
    "Here's the BHI plot:"
   ]
  },
  {
   "cell_type": "code",
   "execution_count": 32,
   "metadata": {},
   "outputs": [
    {
     "data": {
      "image/png": "[encoded data removed]",
      "text/plain": [
       "Plot with title \"Biological validation\""
      ]
     },
     "metadata": {},
     "output_type": "display_data",
     "source": "R display func"
    }
   ],
   "source": [
    "plot(hip_valid, measure = 'BHI', legendLoc = 'bottomright')"
   ]
  },
  {
   "cell_type": "markdown",
   "metadata": {},
   "source": [
    "### Take-Aways  \n",
    "`clValid` is a great way to try out several different clustering algorithms and values for $k$ at one time. You can even extend this to trying different distance measures, linkage types, and/or annotation lists by calling it from within loops. The one drawback is that, depending on the number of observations, testing a wide range of $k$ values can take a long time. I've looked into ways to run it in parallel on an NVIDIA GPU that could work. At least for hierarchical clustering, I could maybe replace the `hclust()` calls in `clValid()` with the `gputools` version, `gpuHclust()`. I haven't tried it yet, though. The `snow` package might be a way to run `clValid` on a cluster of workstations. Regardless, it's still a good way to try a bunch of different algortihms and parameters at once which is useful considering clustering seems to be more of an art than a science.  \n",
    "\n",
    "Happy modeling!"
   ]
  },
  {
   "cell_type": "markdown",
   "metadata": {},
   "source": [
    "#### References  \n",
    "1. Brock, G., Pihur, V., Datta, S., Datta, S. (2008). clValid: An R Package for Cluster Validation. *Journal of Satistical Software*, **25**(4).\n",
    "2. Handl J., Knowles J., Kell D.B. (2005). Computational Cluster Validation in Post-Genomic Data Analysis. *Bioinformatics*, **21**(15): 3201-12.  \n",
    "3. Datta S. & Datta S. (2003). Comparisons and Validation of Statistical Clustering Techniques for Microarray Gene Expression Data. *Bioinformatics*, **19**(4): 459-66.\n",
    "4. Dunn J.C. (1974). Well Separated Clusters and Fuzzy Partitions. *Journal on Cybernetics*, **4**: 95-104."
   ]
  },
  {
   "cell_type": "code",
   "execution_count": null,
   "metadata": {},
   "outputs": [],
   "source": []
  }
 ],
 "metadata": {
  "kernelspec": {
   "display_name": "R",
   "language": "R",
   "name": "ir"
  },
  "language_info": {
   "codemirror_mode": "r",
   "file_extension": ".r",
   "mimetype": "text/x-r-source",
   "name": "R",
   "pygments_lexer": "r",
   "version": "3.4.1"
  }
 },
 "nbformat": 4,
 "nbformat_minor": 2
}
